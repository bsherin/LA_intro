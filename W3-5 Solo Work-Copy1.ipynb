{
 "cells": [
  {
   "cell_type": "code",
   "execution_count": 32,
   "id": "varying-dancing",
   "metadata": {},
   "outputs": [],
   "source": [
    "import pandas as pd\n",
    "import nltk\n",
    "import sklearn\n",
    "from sklearn.metrics import cohen_kappa_score"
   ]
  },
  {
   "cell_type": "markdown",
   "id": "challenging-fashion",
   "metadata": {},
   "source": [
    "## The Adult Data set\n",
    "\n",
    "In this workbook, you'll work with data extracted from the 1994 census. I got it from [here](http://archive.ics.uci.edu/ml/datasets/Adult). The title is not very helpful.\n",
    "\n",
    "Essentially, this data set has some information about some adults, plus whether their income was more or less thatn 50k. The classification task is to use the other variables to predict whether someone made more or less than 50k.\n",
    "\n",
    "The data is in a weird format - an `arff` file. I'll deal with reading it in for you."
   ]
  },
  {
   "cell_type": "code",
   "execution_count": null,
   "id": "friendly-compression",
   "metadata": {},
   "outputs": [],
   "source": [
    "from scipy.io import arff\n",
    "data, meta = arff.loadarff(\"corpora/adult/adult.arff\")\n",
    "df = pd.DataFrame(data)\n",
    "dlist = df.to_dict('records')\n",
    "for row in dlist:\n",
    "    for k, v in row.items():\n",
    "        if isinstance(v, bytes):\n",
    "            row[k] = str(v, \"utf-8\")"
   ]
  },
  {
   "cell_type": "markdown",
   "id": "fabulous-cosmetic",
   "metadata": {},
   "source": [
    "Now the data is in the same form we used in the preceding notebooks; namely it's a list of dictionaries."
   ]
  },
  {
   "cell_type": "code",
   "execution_count": 22,
   "id": "monetary-manufacturer",
   "metadata": {},
   "outputs": [
    {
     "data": {
      "text/plain": [
       "{'age': 39.0,\n",
       " 'workclass': 'State-gov',\n",
       " 'fnlwgt': 77516.0,\n",
       " 'education': 'Bachelors',\n",
       " 'education-num': 13.0,\n",
       " 'marital-status': 'Never-married',\n",
       " 'occupation': 'Adm-clerical',\n",
       " 'relationship': 'Not-in-family',\n",
       " 'race': 'White',\n",
       " 'sex': 'Male',\n",
       " 'capital-gain': 2174.0,\n",
       " 'capital-loss': 0.0,\n",
       " 'hours-per-week': 40.0,\n",
       " 'native-country': 'United-States',\n",
       " 'income': '<=50K'}"
      ]
     },
     "execution_count": 22,
     "metadata": {},
     "output_type": "execute_result"
    }
   ],
   "source": [
    "dlist[0]"
   ]
  },
  {
   "cell_type": "code",
   "execution_count": 33,
   "id": "swedish-musical",
   "metadata": {},
   "outputs": [
    {
     "name": "stdout",
     "output_type": "stream",
     "text": [
      "      |    <      |\n",
      "      |    =    > |\n",
      "      |    5    5 |\n",
      "      |    0    0 |\n",
      "      |    K    K |\n",
      "------+-----------+\n",
      "<=50K |<2361> 103 |\n",
      " >50K |  640 <153>|\n",
      "------+-----------+\n",
      "(row = reference; col = test)\n",
      "\n",
      "accuracy = 0.7718759594719067\n",
      "kappa =  0.19618365515979153\n"
     ]
    }
   ],
   "source": [
    "import random\n",
    "random.shuffle(dlist)\n",
    "train_size = int(.9 * len(dlist))\n",
    "\n",
    "def adult_features(r):\n",
    "    return {\"education\": r[\"education\"]}\n",
    "\n",
    "labeled_feature_sets = [(adult_features(r), r[\"income\"]) for r in dlist]\n",
    "train_set = labeled_feature_sets[:train_size]\n",
    "test_set = labeled_feature_sets[train_size:]\n",
    "adult_classifier = nltk.NaiveBayesClassifier.train(train_set)\n",
    "gold_list = [t[1] for t in test_set]\n",
    "guess_list = [adult_classifier.classify(t[0]) for t in test_set]\n",
    "cm = nltk.ConfusionMatrix(gold_list, guess_list)\n",
    "print(cm)\n",
    "accuracy = nltk.classify.accuracy(adult_classifier, test_set)\n",
    "print(\"accuracy =\", accuracy)\n",
    "print(\"kappa = \", str(cohen_kappa_score(gold_list, guess_list)))"
   ]
  },
  {
   "cell_type": "code",
   "execution_count": 35,
   "id": "dense-verification",
   "metadata": {},
   "outputs": [
    {
     "name": "stdout",
     "output_type": "stream",
     "text": [
      "Most Informative Features\n",
      "               education = 'Prof-school'    >50K : <=50K  =      9.0 : 1.0\n",
      "               education = 'Doctorate'      >50K : <=50K  =      8.4 : 1.0\n",
      "               education = '1st-4th'       <=50K : >50K   =      7.3 : 1.0\n",
      "               education = '5th-6th'       <=50K : >50K   =      6.3 : 1.0\n",
      "               education = '9th'           <=50K : >50K   =      5.8 : 1.0\n",
      "               education = '11th'          <=50K : >50K   =      5.7 : 1.0\n",
      "               education = '7th-8th'       <=50K : >50K   =      5.3 : 1.0\n",
      "               education = '10th'          <=50K : >50K   =      4.3 : 1.0\n",
      "               education = 'Masters'        >50K : <=50K  =      4.1 : 1.0\n",
      "               education = '12th'          <=50K : >50K   =      3.7 : 1.0\n"
     ]
    }
   ],
   "source": [
    "adult_classifier.show_most_informative_features()"
   ]
  },
  {
   "cell_type": "code",
   "execution_count": null,
   "id": "progressive-coating",
   "metadata": {},
   "outputs": [],
   "source": []
  }
 ],
 "metadata": {
  "kernelspec": {
   "display_name": "Python 3",
   "language": "python",
   "name": "python3"
  },
  "language_info": {
   "codemirror_mode": {
    "name": "ipython",
    "version": 3
   },
   "file_extension": ".py",
   "mimetype": "text/x-python",
   "name": "python",
   "nbconvert_exporter": "python",
   "pygments_lexer": "ipython3",
   "version": "3.7.7"
  }
 },
 "nbformat": 4,
 "nbformat_minor": 5
}
