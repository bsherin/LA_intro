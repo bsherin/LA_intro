{
 "cells": [
  {
   "cell_type": "markdown",
   "id": "following-parliament",
   "metadata": {},
   "source": [
    "## Data types that we know"
   ]
  },
  {
   "cell_type": "code",
   "execution_count": null,
   "id": "arbitrary-principal",
   "metadata": {},
   "outputs": [],
   "source": [
    "my_number = 7\n",
    "my_string = \"This is a string\"\n",
    "my_list = [\"This\", \"is\", \"a\", \"list\"]\n",
    "my_dict = {\"bruce\": \"a very nice fellow\", \"age\": 58, \"show_size\": 10}"
   ]
  },
  {
   "cell_type": "markdown",
   "id": "green-culture",
   "metadata": {},
   "source": [
    "Things we can do with them"
   ]
  },
  {
   "cell_type": "code",
   "execution_count": null,
   "id": "optional-cathedral",
   "metadata": {},
   "outputs": [],
   "source": [
    "my_list[1]"
   ]
  },
  {
   "cell_type": "code",
   "execution_count": null,
   "id": "instrumental-green",
   "metadata": {},
   "outputs": [],
   "source": [
    "my_dict[\"age\"]"
   ]
  },
  {
   "cell_type": "markdown",
   "id": "productive-better",
   "metadata": {},
   "source": [
    "### Using the variable inspector\n",
    "\n",
    "Keeping track of what's in your complicated data structures can be a headache.\n",
    "The varaible inspector is a tool that can help.\n",
    "\n",
    "Right-click or ctrl-click to bring up the context menu.\n",
    "Select `Open Variable Inspector`"
   ]
  },
  {
   "cell_type": "markdown",
   "id": "acquired-foundation",
   "metadata": {},
   "source": [
    "### Looping over data structures"
   ]
  },
  {
   "cell_type": "code",
   "execution_count": null,
   "id": "stuck-thanks",
   "metadata": {},
   "outputs": [],
   "source": [
    "for a_word in my_list:\n",
    "    print(a_word)"
   ]
  },
  {
   "cell_type": "code",
   "execution_count": null,
   "id": "engaged-nightlife",
   "metadata": {},
   "outputs": [],
   "source": [
    "my_dict.keys()"
   ]
  },
  {
   "cell_type": "code",
   "execution_count": null,
   "id": "embedded-austria",
   "metadata": {},
   "outputs": [],
   "source": [
    "for k in my_dict.keys():\n",
    "    print(k)"
   ]
  },
  {
   "cell_type": "markdown",
   "id": "significant-triple",
   "metadata": {},
   "source": [
    "## Fancier data structures"
   ]
  },
  {
   "cell_type": "code",
   "execution_count": null,
   "id": "green-porter",
   "metadata": {},
   "outputs": [],
   "source": [
    "llist = [[\"kevin\", \"tim\", \"harry\"], [\"lev\", \"uncle\", \"larry\"]]\n",
    "nlist = [[1, 5, 24], [2, 25, 733], [222, 253, 334]]"
   ]
  },
  {
   "cell_type": "code",
   "execution_count": null,
   "id": "published-partnership",
   "metadata": {},
   "outputs": [],
   "source": [
    "for r in llist:\n",
    "    for entry in r:\n",
    "        print(entry)"
   ]
  },
  {
   "cell_type": "markdown",
   "id": "aware-malawi",
   "metadata": {},
   "source": [
    "### pandas\n",
    "Pandas is an extremely powerful library for dealing with big data structures"
   ]
  },
  {
   "cell_type": "code",
   "execution_count": null,
   "id": "expanded-candidate",
   "metadata": {},
   "outputs": [],
   "source": [
    "import pandas as pd\n",
    "llist_df = pd.DataFrame(llist)\n",
    "nlist_df = pd.DataFrame(nlist)"
   ]
  },
  {
   "cell_type": "code",
   "execution_count": null,
   "id": "after-compression",
   "metadata": {},
   "outputs": [],
   "source": [
    "llist_df"
   ]
  },
  {
   "cell_type": "code",
   "execution_count": null,
   "id": "marked-start",
   "metadata": {},
   "outputs": [],
   "source": [
    "people = {}\n",
    "people[\"bruce\"] = {\"home\": \"wilmette\", \"age\": 58}\n",
    "people[\"harry\"] = {\"home\": \"toledo\", \"age\": 32}\n",
    "pdf = pd.DataFrame.from_dict(people, orient=\"index\")"
   ]
  },
  {
   "cell_type": "code",
   "execution_count": null,
   "id": "expected-denmark",
   "metadata": {},
   "outputs": [],
   "source": [
    "pdf"
   ]
  }
 ],
 "metadata": {
  "kernelspec": {
   "display_name": "Python 3",
   "language": "python",
   "name": "python3"
  },
  "language_info": {
   "codemirror_mode": {
    "name": "ipython",
    "version": 3
   },
   "file_extension": ".py",
   "mimetype": "text/x-python",
   "name": "python",
   "nbconvert_exporter": "python",
   "pygments_lexer": "ipython3",
   "version": "3.7.7"
  }
 },
 "nbformat": 4,
 "nbformat_minor": 5
}
