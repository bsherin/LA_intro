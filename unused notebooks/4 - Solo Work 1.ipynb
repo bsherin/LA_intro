{
 "cells": [
  {
   "cell_type": "markdown",
   "metadata": {},
   "source": [
    "# Week 1 tasks\n",
    "\n",
    "1. Take a stab at installing the environment on your local machine ([Instructions](course_documents/install_jupyter_notebook.md))\n",
    "    * If you get too bogged down in this, you can skip this for now and useone of the two alternatives for running the notebooks.\n",
    "2. Go through the `Python Basics` and `Some first mining` notebooks that\n",
    "we used in class. Just to get comfortable.\n",
    "      * You might want to also try the versions of these notebooks in Tactic.\n",
    "3. Work through `Solo Work 1` notebook.\n",
    "4. Work through Chapters 1-7 in \"Python From the Very Beginning\". Don't feel\n",
    "like you have to do everything. Try what seems helpful."
   ]
  },
  {
   "cell_type": "markdown",
   "metadata": {},
   "source": [
    "# Solo Work 1\n",
    "\n",
    "The goal here is for you to start to get comfortable using the tools,\n",
    "and to also spend some type staring at python code. \n",
    "\n",
    "Don't be afraid to spend a lot of time staring at specific snippets of code and trying to understand them."
   ]
  },
  {
   "cell_type": "markdown",
   "metadata": {},
   "source": [
    "First, do your standard imports"
   ]
  },
  {
   "cell_type": "code",
   "execution_count": 1,
   "metadata": {},
   "outputs": [],
   "source": [
    "%matplotlib inline\n",
    "import matplotlib\n",
    "from textblob import TextBlob"
   ]
  },
  {
   "cell_type": "markdown",
   "metadata": {},
   "source": [
    "### Repeat (part of) `Some First Mining` with new different data.\n",
    "\n",
    "The `corpora` folder has another text file inside called `emerald_city.txt`\n",
    "\n",
    "Replicate the analysis in the `Some First Mining` notebook starting with the section *Working with Text Files*. But instead of using `genesis.txt`, use `emerald_city.txt`. Mostly this will give you some practice operating the notebook."
   ]
  },
  {
   "cell_type": "code",
   "execution_count": null,
   "metadata": {},
   "outputs": [],
   "source": []
  }
 ],
 "metadata": {
  "kernelspec": {
   "display_name": "Python 3",
   "language": "python",
   "name": "python3"
  },
  "language_info": {
   "codemirror_mode": {
    "name": "ipython",
    "version": 3
   },
   "file_extension": ".py",
   "mimetype": "text/x-python",
   "name": "python",
   "nbconvert_exporter": "python",
   "pygments_lexer": "ipython3",
   "version": "3.7.7"
  },
  "toc": {
   "base_numbering": 1,
   "nav_menu": {},
   "number_sections": true,
   "sideBar": true,
   "skip_h1_title": false,
   "title_cell": "Table of Contents",
   "title_sidebar": "Contents",
   "toc_cell": false,
   "toc_position": {},
   "toc_section_display": true,
   "toc_window_display": true
  }
 },
 "nbformat": 4,
 "nbformat_minor": 4
}
