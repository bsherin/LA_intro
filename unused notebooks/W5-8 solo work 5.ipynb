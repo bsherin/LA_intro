{
 "cells": [
  {
   "cell_type": "markdown",
   "metadata": {},
   "source": [
    "# Build your own corpus from Reddit, Twitter, or Propublica"
   ]
  },
  {
   "cell_type": "markdown",
   "metadata": {},
   "source": [
    "Here are the steps:\n",
    "\n",
    "### Part A. Connect and download\n",
    "1. Decide on data source that you're interested in.\n",
    "2. Follow the relevant instructions in the relevant notebook to do the relevant setting up.\n",
    "3. Download some data relating to that topic.\n",
    "\n",
    "### Part B. Extract\n",
    "The text data you get will likely be embedded in some elaborate data structure. So you'll have to figure out how to fish it out and convert it into a data structure that you can work with, such as a list of strings, or a list of dictionaries. This won't be easy, and might require you to push your python understanding. But see if you can make progress. \n",
    "\n",
    "### Part C. Normalize and explore\n",
    "1. Tokenize the text you've collected.\n",
    "    * You can do this however you want. You can use nltk.tokenize, or one of the tokenizers we have used in the course.\n",
    "    * You can use your own regular expressions.\n",
    "    * You can use a combination.\n",
    "2. Construct a frequency distribution of the words in your little corpus.\n",
    "    * Take a look. What do you think?\n",
    "3. Remove words from a stop list and look at the frequency distribution again.\n",
    "4. Finally, stem the words in your corpus and construct a final frequency distribution."
   ]
  },
  {
   "cell_type": "code",
   "execution_count": null,
   "metadata": {},
   "outputs": [],
   "source": []
  }
 ],
 "metadata": {
  "kernelspec": {
   "display_name": "Python 3",
   "language": "python",
   "name": "python3"
  },
  "language_info": {
   "codemirror_mode": {
    "name": "ipython",
    "version": 3
   },
   "file_extension": ".py",
   "mimetype": "text/x-python",
   "name": "python",
   "nbconvert_exporter": "python",
   "pygments_lexer": "ipython3",
   "version": "3.7.7"
  }
 },
 "nbformat": 4,
 "nbformat_minor": 4
}
