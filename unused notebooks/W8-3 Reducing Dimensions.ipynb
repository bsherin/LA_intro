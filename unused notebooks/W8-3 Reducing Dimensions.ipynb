{
 "cells": [
  {
   "cell_type": "markdown",
   "id": "excellent-beverage",
   "metadata": {
    "slideshow": {
     "slide_type": "slide"
    }
   },
   "source": [
    "# Preliminaries"
   ]
  },
  {
   "cell_type": "markdown",
   "id": "preceding-disability",
   "metadata": {
    "slideshow": {
     "slide_type": "-"
    }
   },
   "source": [
    "All of the same preliminaries"
   ]
  },
  {
   "cell_type": "code",
   "execution_count": 1,
   "id": "false-lobby",
   "metadata": {},
   "outputs": [],
   "source": [
    "import numpy as np\n",
    "import pandas as pd\n",
    "import nltk\n",
    "import matplotlib.pyplot as plt\n",
    "\n",
    "def norm_vec(v):\n",
    "    mag = np.linalg.norm(v)\n",
    "    if mag == 0:\n",
    "        return v\n",
    "    return v / np.linalg.norm(v)\n",
    "\n",
    "from sklearn.preprocessing import normalize\n",
    "\n",
    "def normalize_rows(x):\n",
    "    return normalize(x, axis=1)\n",
    "\n",
    "def normalize_columns(x):\n",
    "    return normalize(x, axis=0)\n",
    "\n",
    "def check_float(potential_float):\n",
    "    try:\n",
    "        float(potential_float)\n",
    "        return True\n",
    "    except ValueError:\n",
    "        return False\n",
    "\n",
    "def round_if_float(v, prec=3):\n",
    "    if check_float(v):\n",
    "        return round(float(v), prec)\n",
    "    return v\n",
    "\n",
    "from IPython.core.display import display, HTML\n",
    "def list_table(the_list, color_nums=False):\n",
    "    html = [\"<table style= 'border: 1px solid black; display:inline-block'>\"]\n",
    "    for row in the_list:\n",
    "        html.append(\"<tr>\")\n",
    "        for col in row:\n",
    "            if color_nums and check_float(col) and not float(col) == 0:\n",
    "                html.append(\"<td align='left' style='border: .5px solid gray; color: {1}; font-weight: bold'>{0}</td>\".format(round_if_float(col), color_nums))\n",
    "            else:\n",
    "                html.append(\"<td align='left' style='border: .5px solid gray;'>{0}</td>\".format(round_if_float(col)))\n",
    "        html.append(\"</tr>\")\n",
    "    html.append(\"</table>\")\n",
    "    return display(HTML(''.join(html)))\n",
    "\n",
    "def show_labeled_table(mat, col_names=None, row_names=None, nrows=10, ncols=10, color_nums=\"red\"):\n",
    "    sml = mat[:nrows, :ncols]\n",
    "    if col_names is not None:\n",
    "        sml = np.vstack([col_names[:ncols], sml])\n",
    "    if row_names is not None:\n",
    "        rnames = [[p] for p in row_names[:nrows]]\n",
    "        if col_names is not None:\n",
    "            new_col = np.array([[\"_\"]] + rnames)\n",
    "        else:\n",
    "            new_col = np.array(rnames)\n",
    "        sml = np.hstack((new_col, sml))\n",
    "    return list_table(sml, color_nums)\n",
    "\n",
    "def compute_doc_vector(tdoc, vocab):\n",
    "    return np.array([tdoc.count(w) for w in vocab])"
   ]
  },
  {
   "cell_type": "markdown",
   "id": "extraordinary-compatibility",
   "metadata": {
    "slideshow": {
     "slide_type": "slide"
    }
   },
   "source": [
    "# Word vectors for the seasons"
   ]
  },
  {
   "cell_type": "markdown",
   "id": "small-folks",
   "metadata": {
    "slideshow": {
     "slide_type": "subslide"
    }
   },
   "source": [
    "## Load the training corpus. \n",
    "\n",
    "This time we'll split it into sentences"
   ]
  },
  {
   "cell_type": "code",
   "execution_count": 2,
   "id": "lesbian-seating",
   "metadata": {},
   "outputs": [],
   "source": [
    "import re\n",
    "fname = 'corpora/seasons_training.txt'\n",
    "f = open(fname)\n",
    "raw = f.read().lower()\n",
    "whole_training_docs = re.findall(r\"<text>([\\s\\S]*?)</text>\", raw)"
   ]
  },
  {
   "cell_type": "code",
   "execution_count": 3,
   "id": "lasting-checkout",
   "metadata": {},
   "outputs": [],
   "source": [
    "training_docs = []\n",
    "para_names = []\n",
    "for i, d in enumerate(whole_training_docs):\n",
    "    new_docs = nltk.sent_tokenize(d)\n",
    "    training_docs += new_docs\n",
    "    new_names = [\"d{}p{}\".format(i, p) for p in range(len(new_docs))]\n",
    "    para_names += new_names"
   ]
  },
  {
   "cell_type": "markdown",
   "id": "global-april",
   "metadata": {},
   "source": [
    "Now we have close to 14000 documents"
   ]
  },
  {
   "cell_type": "code",
   "execution_count": 4,
   "id": "reliable-provincial",
   "metadata": {},
   "outputs": [
    {
     "data": {
      "text/plain": [
       "13917"
      ]
     },
     "execution_count": 4,
     "metadata": {},
     "output_type": "execute_result"
    }
   ],
   "source": [
    "len(training_docs)"
   ]
  },
  {
   "cell_type": "markdown",
   "id": "deluxe-ridge",
   "metadata": {
    "slideshow": {
     "slide_type": "subslide"
    }
   },
   "source": [
    "## Tokenize the training documents\n",
    "\n",
    "Now we tokenize the ~14000 training documents"
   ]
  },
  {
   "cell_type": "code",
   "execution_count": 5,
   "id": "universal-image",
   "metadata": {},
   "outputs": [],
   "source": [
    "from seasons_module import seasons_tokenize\n",
    "tokenized_training_docs = []\n",
    "for doc in training_docs:\n",
    "    tdoc = seasons_tokenize(doc)\n",
    "    tokenized_training_docs.append(tdoc)"
   ]
  },
  {
   "cell_type": "code",
   "execution_count": 6,
   "id": "awful-yahoo",
   "metadata": {},
   "outputs": [],
   "source": [
    "fdist = nltk.FreqDist()\n",
    "for doc in tokenized_training_docs:\n",
    "    fdist.update(doc)\n",
    "\n",
    "f = open(\"lists/seasons_stop_list.txt\")\n",
    "stop_list = set(f.read().split(\"\\n\"))\n",
    "\n",
    "full_vocab = [w[0] for w in fdist.most_common() if w[0] not in stop_list]\n",
    "vocab = full_vocab[:500]"
   ]
  },
  {
   "cell_type": "markdown",
   "id": "physical-chamber",
   "metadata": {
    "slideshow": {
     "slide_type": "subslide"
    }
   },
   "source": [
    "## Get the document vectors\n"
   ]
  },
  {
   "cell_type": "markdown",
   "id": "scheduled-incentive",
   "metadata": {},
   "source": [
    "When I first tried to compute document vectors executing it took a long time to run - 5 or 10 minutes. I had to poke around the internet and fiddle a bit. I figured out that building the big matrix in chunks and then putting those chunks together made a big difference."
   ]
  },
  {
   "cell_type": "code",
   "execution_count": 7,
   "id": "legitimate-thesis",
   "metadata": {},
   "outputs": [
    {
     "data": {
      "text/plain": [
       "'13916 joining chunks'"
      ]
     },
     "metadata": {},
     "output_type": "display_data"
    },
    {
     "name": "stdout",
     "output_type": "stream",
     "text": [
      "empty rows 670\n"
     ]
    }
   ],
   "source": [
    "from IPython.display import display, clear_output\n",
    "\n",
    "def wfactor(tf):\n",
    "    if tf == 0:\n",
    "        result = 0\n",
    "    else:\n",
    "        result = (1 + np.log(tf))\n",
    "    return result\n",
    "\n",
    "def compute_doc_vector(token_list, vocab):\n",
    "    return np.array([wfactor(token_list.count(word)) for word in vocab])\n",
    "\n",
    "chunk_list = []\n",
    "empty_rows = 0\n",
    "chunk = np.array([], dtype=np.int64).reshape(0,len(vocab))\n",
    "for i, tdoc in enumerate(tokenized_training_docs):\n",
    "    new_row = compute_doc_vector(tdoc, vocab)\n",
    "    if i % 500 == 0:\n",
    "        clear_output(wait=True)\n",
    "        display(str(i))\n",
    "        chunk_list.append(chunk)\n",
    "        chunk = np.array([], dtype=np.int64).reshape(0,len(vocab))\n",
    "    if np.linalg.norm(new_row) == 0:\n",
    "        empty_rows += 1\n",
    "        continue\n",
    "    chunk = np.concatenate([chunk, np.array([new_row])])\n",
    "    \n",
    "chunk_list.append(chunk)\n",
    "clear_output(wait=True)\n",
    "display(str(i) + \" joining chunks\")\n",
    "\n",
    "training_dt_matrix2 = np.concatenate(chunk_list)\n",
    "print(\"empty rows {}\".format(empty_rows))"
   ]
  },
  {
   "cell_type": "code",
   "execution_count": 10,
   "id": "finnish-webcam",
   "metadata": {},
   "outputs": [
    {
     "data": {
      "text/plain": [
       "(13247, 500)"
      ]
     },
     "execution_count": 10,
     "metadata": {},
     "output_type": "execute_result"
    }
   ],
   "source": [
    "training_dt_matrix2.shape"
   ]
  },
  {
   "cell_type": "code",
   "execution_count": 11,
   "id": "optimum-drinking",
   "metadata": {
    "slideshow": {
     "slide_type": "fragment"
    }
   },
   "outputs": [
    {
     "data": {
      "text/html": [
       "<table style= 'border: 1px solid black; display:inline-block'><tr><td align='left' style='border: .5px solid gray;'>_</td><td align='left' style='border: .5px solid gray;'>solar</td><td align='left' style='border: .5px solid gray;'>climate</td><td align='left' style='border: .5px solid gray;'>surface</td><td align='left' style='border: .5px solid gray;'>energy</td><td align='left' style='border: .5px solid gray;'>temperature</td><td align='left' style='border: .5px solid gray;'>atmosphere</td><td align='left' style='border: .5px solid gray;'>year</td><td align='left' style='border: .5px solid gray;'>air</td><td align='left' style='border: .5px solid gray;'>hemisphere</td><td align='left' style='border: .5px solid gray;'>time</td></tr><tr><td align='left' style='border: .5px solid gray;'>d0p0</td><td align='left' style='border: .5px solid gray; color: red; font-weight: bold'>1.0</td><td align='left' style='border: .5px solid gray;'>0.0</td><td align='left' style='border: .5px solid gray;'>0.0</td><td align='left' style='border: .5px solid gray;'>0.0</td><td align='left' style='border: .5px solid gray;'>0.0</td><td align='left' style='border: .5px solid gray;'>0.0</td><td align='left' style='border: .5px solid gray;'>0.0</td><td align='left' style='border: .5px solid gray;'>0.0</td><td align='left' style='border: .5px solid gray;'>0.0</td><td align='left' style='border: .5px solid gray;'>0.0</td></tr><tr><td align='left' style='border: .5px solid gray;'>d0p1</td><td align='left' style='border: .5px solid gray; color: red; font-weight: bold'>1.0</td><td align='left' style='border: .5px solid gray;'>0.0</td><td align='left' style='border: .5px solid gray;'>0.0</td><td align='left' style='border: .5px solid gray;'>0.0</td><td align='left' style='border: .5px solid gray;'>0.0</td><td align='left' style='border: .5px solid gray;'>0.0</td><td align='left' style='border: .5px solid gray;'>0.0</td><td align='left' style='border: .5px solid gray;'>0.0</td><td align='left' style='border: .5px solid gray;'>0.0</td><td align='left' style='border: .5px solid gray;'>0.0</td></tr><tr><td align='left' style='border: .5px solid gray;'>d0p2</td><td align='left' style='border: .5px solid gray;'>0.0</td><td align='left' style='border: .5px solid gray;'>0.0</td><td align='left' style='border: .5px solid gray;'>0.0</td><td align='left' style='border: .5px solid gray;'>0.0</td><td align='left' style='border: .5px solid gray;'>0.0</td><td align='left' style='border: .5px solid gray;'>0.0</td><td align='left' style='border: .5px solid gray;'>0.0</td><td align='left' style='border: .5px solid gray;'>0.0</td><td align='left' style='border: .5px solid gray;'>0.0</td><td align='left' style='border: .5px solid gray;'>0.0</td></tr><tr><td align='left' style='border: .5px solid gray;'>d0p3</td><td align='left' style='border: .5px solid gray;'>0.0</td><td align='left' style='border: .5px solid gray;'>0.0</td><td align='left' style='border: .5px solid gray;'>0.0</td><td align='left' style='border: .5px solid gray;'>0.0</td><td align='left' style='border: .5px solid gray; color: red; font-weight: bold'>1.0</td><td align='left' style='border: .5px solid gray;'>0.0</td><td align='left' style='border: .5px solid gray;'>0.0</td><td align='left' style='border: .5px solid gray;'>0.0</td><td align='left' style='border: .5px solid gray;'>0.0</td><td align='left' style='border: .5px solid gray;'>0.0</td></tr><tr><td align='left' style='border: .5px solid gray;'>d0p4</td><td align='left' style='border: .5px solid gray;'>0.0</td><td align='left' style='border: .5px solid gray;'>0.0</td><td align='left' style='border: .5px solid gray; color: red; font-weight: bold'>1.0</td><td align='left' style='border: .5px solid gray; color: red; font-weight: bold'>1.0</td><td align='left' style='border: .5px solid gray;'>0.0</td><td align='left' style='border: .5px solid gray;'>0.0</td><td align='left' style='border: .5px solid gray;'>0.0</td><td align='left' style='border: .5px solid gray;'>0.0</td><td align='left' style='border: .5px solid gray;'>0.0</td><td align='left' style='border: .5px solid gray;'>0.0</td></tr><tr><td align='left' style='border: .5px solid gray;'>d0p5</td><td align='left' style='border: .5px solid gray; color: red; font-weight: bold'>1.0</td><td align='left' style='border: .5px solid gray;'>0.0</td><td align='left' style='border: .5px solid gray;'>0.0</td><td align='left' style='border: .5px solid gray; color: red; font-weight: bold'>1.0</td><td align='left' style='border: .5px solid gray;'>0.0</td><td align='left' style='border: .5px solid gray;'>0.0</td><td align='left' style='border: .5px solid gray;'>0.0</td><td align='left' style='border: .5px solid gray;'>0.0</td><td align='left' style='border: .5px solid gray;'>0.0</td><td align='left' style='border: .5px solid gray;'>0.0</td></tr><tr><td align='left' style='border: .5px solid gray;'>d0p6</td><td align='left' style='border: .5px solid gray;'>0.0</td><td align='left' style='border: .5px solid gray;'>0.0</td><td align='left' style='border: .5px solid gray;'>0.0</td><td align='left' style='border: .5px solid gray;'>0.0</td><td align='left' style='border: .5px solid gray; color: red; font-weight: bold'>1.0</td><td align='left' style='border: .5px solid gray;'>0.0</td><td align='left' style='border: .5px solid gray;'>0.0</td><td align='left' style='border: .5px solid gray; color: red; font-weight: bold'>1.0</td><td align='left' style='border: .5px solid gray;'>0.0</td><td align='left' style='border: .5px solid gray;'>0.0</td></tr><tr><td align='left' style='border: .5px solid gray;'>d0p7</td><td align='left' style='border: .5px solid gray;'>0.0</td><td align='left' style='border: .5px solid gray;'>0.0</td><td align='left' style='border: .5px solid gray;'>0.0</td><td align='left' style='border: .5px solid gray;'>0.0</td><td align='left' style='border: .5px solid gray;'>0.0</td><td align='left' style='border: .5px solid gray;'>0.0</td><td align='left' style='border: .5px solid gray;'>0.0</td><td align='left' style='border: .5px solid gray;'>0.0</td><td align='left' style='border: .5px solid gray;'>0.0</td><td align='left' style='border: .5px solid gray;'>0.0</td></tr><tr><td align='left' style='border: .5px solid gray;'>d0p8</td><td align='left' style='border: .5px solid gray;'>0.0</td><td align='left' style='border: .5px solid gray;'>0.0</td><td align='left' style='border: .5px solid gray;'>0.0</td><td align='left' style='border: .5px solid gray;'>0.0</td><td align='left' style='border: .5px solid gray;'>0.0</td><td align='left' style='border: .5px solid gray;'>0.0</td><td align='left' style='border: .5px solid gray;'>0.0</td><td align='left' style='border: .5px solid gray;'>0.0</td><td align='left' style='border: .5px solid gray;'>0.0</td><td align='left' style='border: .5px solid gray;'>0.0</td></tr><tr><td align='left' style='border: .5px solid gray;'>d0p9</td><td align='left' style='border: .5px solid gray;'>0.0</td><td align='left' style='border: .5px solid gray;'>0.0</td><td align='left' style='border: .5px solid gray; color: red; font-weight: bold'>1.0</td><td align='left' style='border: .5px solid gray; color: red; font-weight: bold'>1.0</td><td align='left' style='border: .5px solid gray;'>0.0</td><td align='left' style='border: .5px solid gray;'>0.0</td><td align='left' style='border: .5px solid gray;'>0.0</td><td align='left' style='border: .5px solid gray;'>0.0</td><td align='left' style='border: .5px solid gray;'>0.0</td><td align='left' style='border: .5px solid gray;'>0.0</td></tr><tr><td align='left' style='border: .5px solid gray;'>d0p10</td><td align='left' style='border: .5px solid gray;'>0.0</td><td align='left' style='border: .5px solid gray;'>0.0</td><td align='left' style='border: .5px solid gray; color: red; font-weight: bold'>1.0</td><td align='left' style='border: .5px solid gray; color: red; font-weight: bold'>1.0</td><td align='left' style='border: .5px solid gray;'>0.0</td><td align='left' style='border: .5px solid gray;'>0.0</td><td align='left' style='border: .5px solid gray;'>0.0</td><td align='left' style='border: .5px solid gray;'>0.0</td><td align='left' style='border: .5px solid gray;'>0.0</td><td align='left' style='border: .5px solid gray;'>0.0</td></tr><tr><td align='left' style='border: .5px solid gray;'>d0p11</td><td align='left' style='border: .5px solid gray;'>0.0</td><td align='left' style='border: .5px solid gray;'>0.0</td><td align='left' style='border: .5px solid gray;'>0.0</td><td align='left' style='border: .5px solid gray;'>0.0</td><td align='left' style='border: .5px solid gray;'>0.0</td><td align='left' style='border: .5px solid gray;'>0.0</td><td align='left' style='border: .5px solid gray;'>0.0</td><td align='left' style='border: .5px solid gray;'>0.0</td><td align='left' style='border: .5px solid gray;'>0.0</td><td align='left' style='border: .5px solid gray;'>0.0</td></tr><tr><td align='left' style='border: .5px solid gray;'>d0p12</td><td align='left' style='border: .5px solid gray;'>0.0</td><td align='left' style='border: .5px solid gray;'>0.0</td><td align='left' style='border: .5px solid gray;'>0.0</td><td align='left' style='border: .5px solid gray; color: red; font-weight: bold'>1.0</td><td align='left' style='border: .5px solid gray;'>0.0</td><td align='left' style='border: .5px solid gray;'>0.0</td><td align='left' style='border: .5px solid gray;'>0.0</td><td align='left' style='border: .5px solid gray;'>0.0</td><td align='left' style='border: .5px solid gray;'>0.0</td><td align='left' style='border: .5px solid gray; color: red; font-weight: bold'>1.0</td></tr><tr><td align='left' style='border: .5px solid gray;'>d0p13</td><td align='left' style='border: .5px solid gray; color: red; font-weight: bold'>1.0</td><td align='left' style='border: .5px solid gray;'>0.0</td><td align='left' style='border: .5px solid gray;'>0.0</td><td align='left' style='border: .5px solid gray; color: red; font-weight: bold'>1.0</td><td align='left' style='border: .5px solid gray;'>0.0</td><td align='left' style='border: .5px solid gray;'>0.0</td><td align='left' style='border: .5px solid gray;'>0.0</td><td align='left' style='border: .5px solid gray;'>0.0</td><td align='left' style='border: .5px solid gray;'>0.0</td><td align='left' style='border: .5px solid gray;'>0.0</td></tr><tr><td align='left' style='border: .5px solid gray;'>d0p14</td><td align='left' style='border: .5px solid gray;'>0.0</td><td align='left' style='border: .5px solid gray;'>0.0</td><td align='left' style='border: .5px solid gray;'>0.0</td><td align='left' style='border: .5px solid gray;'>0.0</td><td align='left' style='border: .5px solid gray;'>0.0</td><td align='left' style='border: .5px solid gray;'>0.0</td><td align='left' style='border: .5px solid gray;'>0.0</td><td align='left' style='border: .5px solid gray;'>0.0</td><td align='left' style='border: .5px solid gray;'>0.0</td><td align='left' style='border: .5px solid gray;'>0.0</td></tr></table>"
      ],
      "text/plain": [
       "<IPython.core.display.HTML object>"
      ]
     },
     "metadata": {},
     "output_type": "display_data"
    }
   ],
   "source": [
    "show_labeled_table(training_dt_matrix2, vocab, para_names, nrows=15, ncols=10)"
   ]
  },
  {
   "cell_type": "markdown",
   "id": "acoustic-delta",
   "metadata": {
    "slideshow": {
     "slide_type": "slide"
    }
   },
   "source": [
    "## Word vectors with reduced dimensions\n",
    "\n",
    "If, as before, we think of each of the columns in our table as a vector for the words, then each word is a vector with 13,264 dimensions.\n",
    "\n",
    "We can use something called the singular value decomposition to reduce the number of dimensions. You read about this in the paper by Landauer. This is the trick that is used in latent semantic analysis.\n",
    "\n",
    "First we pick a number of dimensions. I'm using a slider widget simply because it's fun."
   ]
  },
  {
   "cell_type": "code",
   "execution_count": 12,
   "id": "immune-pulse",
   "metadata": {
    "slideshow": {
     "slide_type": "fragment"
    }
   },
   "outputs": [
    {
     "data": {
      "application/vnd.jupyter.widget-view+json": {
       "model_id": "cf64d9fb7f16466a8387495a53c15151",
       "version_major": 2,
       "version_minor": 0
      },
      "text/plain": [
       "IntSlider(value=100, description='rdims', max=200)"
      ]
     },
     "metadata": {},
     "output_type": "display_data"
    }
   ],
   "source": [
    "import ipywidgets as widgets\n",
    "w = widgets.IntSlider(value=100, max=200, description=\"rdims\")\n",
    "display(w)"
   ]
  },
  {
   "cell_type": "code",
   "execution_count": 13,
   "id": "coordinate-domestic",
   "metadata": {
    "slideshow": {
     "slide_type": "fragment"
    }
   },
   "outputs": [
    {
     "name": "stdout",
     "output_type": "stream",
     "text": [
      "shape of t_normed is (500, 100)\n"
     ]
    },
    {
     "data": {
      "text/html": [
       "<table style= 'border: 1px solid black; display:inline-block'><tr><td align='left' style='border: .5px solid gray;'>solar</td><td align='left' style='border: .5px solid gray;'>0.402</td><td align='left' style='border: .5px solid gray;'>-0.247</td><td align='left' style='border: .5px solid gray;'>0.686</td><td align='left' style='border: .5px solid gray;'>-0.055</td><td align='left' style='border: .5px solid gray;'>0.056</td><td align='left' style='border: .5px solid gray;'>-0.259</td><td align='left' style='border: .5px solid gray;'>0.02</td><td align='left' style='border: .5px solid gray;'>-0.087</td><td align='left' style='border: .5px solid gray;'>0.146</td><td align='left' style='border: .5px solid gray;'>-0.032</td><td align='left' style='border: .5px solid gray;'>0.083</td><td align='left' style='border: .5px solid gray;'>-0.078</td><td align='left' style='border: .5px solid gray;'>0.066</td><td align='left' style='border: .5px solid gray;'>-0.023</td><td align='left' style='border: .5px solid gray;'>0.116</td><td align='left' style='border: .5px solid gray;'>-0.024</td><td align='left' style='border: .5px solid gray;'>0.04</td><td align='left' style='border: .5px solid gray;'>-0.092</td><td align='left' style='border: .5px solid gray;'>0.022</td><td align='left' style='border: .5px solid gray;'>-0.024</td><td align='left' style='border: .5px solid gray;'>0.013</td><td align='left' style='border: .5px solid gray;'>-0.004</td><td align='left' style='border: .5px solid gray;'>0.017</td><td align='left' style='border: .5px solid gray;'>-0.065</td><td align='left' style='border: .5px solid gray;'>0.026</td><td align='left' style='border: .5px solid gray;'>0.026</td><td align='left' style='border: .5px solid gray;'>-0.036</td><td align='left' style='border: .5px solid gray;'>0.044</td><td align='left' style='border: .5px solid gray;'>-0.054</td><td align='left' style='border: .5px solid gray;'>0.075</td><td align='left' style='border: .5px solid gray;'>-0.051</td><td align='left' style='border: .5px solid gray;'>-0.046</td><td align='left' style='border: .5px solid gray;'>0.027</td><td align='left' style='border: .5px solid gray;'>0.157</td><td align='left' style='border: .5px solid gray;'>-0.084</td><td align='left' style='border: .5px solid gray;'>-0.012</td><td align='left' style='border: .5px solid gray;'>-0.054</td><td align='left' style='border: .5px solid gray;'>0.105</td><td align='left' style='border: .5px solid gray;'>-0.091</td><td align='left' style='border: .5px solid gray;'>-0.013</td><td align='left' style='border: .5px solid gray;'>0.025</td><td align='left' style='border: .5px solid gray;'>-0.02</td><td align='left' style='border: .5px solid gray;'>0.088</td><td align='left' style='border: .5px solid gray;'>-0.019</td><td align='left' style='border: .5px solid gray;'>0.041</td><td align='left' style='border: .5px solid gray;'>-0.023</td><td align='left' style='border: .5px solid gray;'>0.041</td><td align='left' style='border: .5px solid gray;'>-0.037</td><td align='left' style='border: .5px solid gray;'>0.039</td><td align='left' style='border: .5px solid gray;'>-0.025</td><td align='left' style='border: .5px solid gray;'>0.031</td><td align='left' style='border: .5px solid gray;'>-0.013</td><td align='left' style='border: .5px solid gray;'>0.016</td><td align='left' style='border: .5px solid gray;'>-0.054</td><td align='left' style='border: .5px solid gray;'>0.13</td><td align='left' style='border: .5px solid gray;'>-0.09</td><td align='left' style='border: .5px solid gray;'>0.037</td><td align='left' style='border: .5px solid gray;'>-0.034</td><td align='left' style='border: .5px solid gray;'>-0.012</td><td align='left' style='border: .5px solid gray;'>-0.066</td><td align='left' style='border: .5px solid gray;'>0.042</td><td align='left' style='border: .5px solid gray;'>-0.022</td><td align='left' style='border: .5px solid gray;'>0.036</td><td align='left' style='border: .5px solid gray;'>0.031</td><td align='left' style='border: .5px solid gray;'>-0.058</td><td align='left' style='border: .5px solid gray;'>0.016</td><td align='left' style='border: .5px solid gray;'>0.035</td><td align='left' style='border: .5px solid gray;'>0.006</td><td align='left' style='border: .5px solid gray;'>-0.04</td><td align='left' style='border: .5px solid gray;'>-0.002</td><td align='left' style='border: .5px solid gray;'>-0.018</td><td align='left' style='border: .5px solid gray;'>0.051</td><td align='left' style='border: .5px solid gray;'>0.029</td><td align='left' style='border: .5px solid gray;'>0.001</td><td align='left' style='border: .5px solid gray;'>0.035</td><td align='left' style='border: .5px solid gray;'>-0.021</td><td align='left' style='border: .5px solid gray;'>-0.045</td><td align='left' style='border: .5px solid gray;'>0.011</td><td align='left' style='border: .5px solid gray;'>0.002</td><td align='left' style='border: .5px solid gray;'>0.015</td><td align='left' style='border: .5px solid gray;'>-0.054</td><td align='left' style='border: .5px solid gray;'>-0.015</td><td align='left' style='border: .5px solid gray;'>0.002</td><td align='left' style='border: .5px solid gray;'>0.038</td><td align='left' style='border: .5px solid gray;'>0.022</td><td align='left' style='border: .5px solid gray;'>-0.029</td><td align='left' style='border: .5px solid gray;'>-0.011</td><td align='left' style='border: .5px solid gray;'>-0.024</td><td align='left' style='border: .5px solid gray;'>-0.037</td><td align='left' style='border: .5px solid gray;'>0.021</td><td align='left' style='border: .5px solid gray;'>0.015</td><td align='left' style='border: .5px solid gray;'>-0.007</td><td align='left' style='border: .5px solid gray;'>0.001</td><td align='left' style='border: .5px solid gray;'>-0.002</td><td align='left' style='border: .5px solid gray;'>0.014</td><td align='left' style='border: .5px solid gray;'>-0.001</td><td align='left' style='border: .5px solid gray;'>0.016</td><td align='left' style='border: .5px solid gray;'>-0.031</td><td align='left' style='border: .5px solid gray;'>0.025</td><td align='left' style='border: .5px solid gray;'>-0.013</td></tr><tr><td align='left' style='border: .5px solid gray;'>climate</td><td align='left' style='border: .5px solid gray;'>0.248</td><td align='left' style='border: .5px solid gray;'>-0.124</td><td align='left' style='border: .5px solid gray;'>-0.291</td><td align='left' style='border: .5px solid gray;'>-0.595</td><td align='left' style='border: .5px solid gray;'>0.228</td><td align='left' style='border: .5px solid gray;'>-0.219</td><td align='left' style='border: .5px solid gray;'>0.165</td><td align='left' style='border: .5px solid gray;'>-0.056</td><td align='left' style='border: .5px solid gray;'>-0.196</td><td align='left' style='border: .5px solid gray;'>0.186</td><td align='left' style='border: .5px solid gray;'>-0.246</td><td align='left' style='border: .5px solid gray;'>-0.043</td><td align='left' style='border: .5px solid gray;'>-0.054</td><td align='left' style='border: .5px solid gray;'>-0.04</td><td align='left' style='border: .5px solid gray;'>0.009</td><td align='left' style='border: .5px solid gray;'>0.022</td><td align='left' style='border: .5px solid gray;'>-0.106</td><td align='left' style='border: .5px solid gray;'>-0.032</td><td align='left' style='border: .5px solid gray;'>0.038</td><td align='left' style='border: .5px solid gray;'>-0.026</td><td align='left' style='border: .5px solid gray;'>0.172</td><td align='left' style='border: .5px solid gray;'>0.24</td><td align='left' style='border: .5px solid gray;'>-0.004</td><td align='left' style='border: .5px solid gray;'>-0.017</td><td align='left' style='border: .5px solid gray;'>-0.134</td><td align='left' style='border: .5px solid gray;'>-0.188</td><td align='left' style='border: .5px solid gray;'>-0.081</td><td align='left' style='border: .5px solid gray;'>0.022</td><td align='left' style='border: .5px solid gray;'>-0.041</td><td align='left' style='border: .5px solid gray;'>-0.006</td><td align='left' style='border: .5px solid gray;'>0.091</td><td align='left' style='border: .5px solid gray;'>0.009</td><td align='left' style='border: .5px solid gray;'>-0.005</td><td align='left' style='border: .5px solid gray;'>0.003</td><td align='left' style='border: .5px solid gray;'>-0.03</td><td align='left' style='border: .5px solid gray;'>-0.062</td><td align='left' style='border: .5px solid gray;'>-0.002</td><td align='left' style='border: .5px solid gray;'>-0.061</td><td align='left' style='border: .5px solid gray;'>-0.037</td><td align='left' style='border: .5px solid gray;'>0.008</td><td align='left' style='border: .5px solid gray;'>0.004</td><td align='left' style='border: .5px solid gray;'>0.063</td><td align='left' style='border: .5px solid gray;'>0.076</td><td align='left' style='border: .5px solid gray;'>0.013</td><td align='left' style='border: .5px solid gray;'>0.03</td><td align='left' style='border: .5px solid gray;'>0.049</td><td align='left' style='border: .5px solid gray;'>0.013</td><td align='left' style='border: .5px solid gray;'>-0.024</td><td align='left' style='border: .5px solid gray;'>0.012</td><td align='left' style='border: .5px solid gray;'>0.035</td><td align='left' style='border: .5px solid gray;'>0.042</td><td align='left' style='border: .5px solid gray;'>0.049</td><td align='left' style='border: .5px solid gray;'>-0.01</td><td align='left' style='border: .5px solid gray;'>-0.016</td><td align='left' style='border: .5px solid gray;'>0.014</td><td align='left' style='border: .5px solid gray;'>0.002</td><td align='left' style='border: .5px solid gray;'>-0.02</td><td align='left' style='border: .5px solid gray;'>0.028</td><td align='left' style='border: .5px solid gray;'>-0.018</td><td align='left' style='border: .5px solid gray;'>0.01</td><td align='left' style='border: .5px solid gray;'>0.035</td><td align='left' style='border: .5px solid gray;'>0.021</td><td align='left' style='border: .5px solid gray;'>0.008</td><td align='left' style='border: .5px solid gray;'>0.012</td><td align='left' style='border: .5px solid gray;'>-0.026</td><td align='left' style='border: .5px solid gray;'>0.012</td><td align='left' style='border: .5px solid gray;'>-0.005</td><td align='left' style='border: .5px solid gray;'>-0.008</td><td align='left' style='border: .5px solid gray;'>-0.035</td><td align='left' style='border: .5px solid gray;'>0.018</td><td align='left' style='border: .5px solid gray;'>-0.028</td><td align='left' style='border: .5px solid gray;'>0.011</td><td align='left' style='border: .5px solid gray;'>0.023</td><td align='left' style='border: .5px solid gray;'>0.009</td><td align='left' style='border: .5px solid gray;'>0.007</td><td align='left' style='border: .5px solid gray;'>0.002</td><td align='left' style='border: .5px solid gray;'>0.023</td><td align='left' style='border: .5px solid gray;'>0.025</td><td align='left' style='border: .5px solid gray;'>0.011</td><td align='left' style='border: .5px solid gray;'>-0.006</td><td align='left' style='border: .5px solid gray;'>-0.021</td><td align='left' style='border: .5px solid gray;'>0.01</td><td align='left' style='border: .5px solid gray;'>-0.008</td><td align='left' style='border: .5px solid gray;'>-0.002</td><td align='left' style='border: .5px solid gray;'>0.022</td><td align='left' style='border: .5px solid gray;'>0.012</td><td align='left' style='border: .5px solid gray;'>-0.003</td><td align='left' style='border: .5px solid gray;'>-0.002</td><td align='left' style='border: .5px solid gray;'>0.01</td><td align='left' style='border: .5px solid gray;'>0.017</td><td align='left' style='border: .5px solid gray;'>0.016</td><td align='left' style='border: .5px solid gray;'>0.015</td><td align='left' style='border: .5px solid gray;'>-0.007</td><td align='left' style='border: .5px solid gray;'>-0.004</td><td align='left' style='border: .5px solid gray;'>0.017</td><td align='left' style='border: .5px solid gray;'>-0.005</td><td align='left' style='border: .5px solid gray;'>-0.013</td><td align='left' style='border: .5px solid gray;'>0.008</td><td align='left' style='border: .5px solid gray;'>-0.001</td><td align='left' style='border: .5px solid gray;'>-0.018</td></tr><tr><td align='left' style='border: .5px solid gray;'>surface</td><td align='left' style='border: .5px solid gray;'>0.258</td><td align='left' style='border: .5px solid gray;'>-0.105</td><td align='left' style='border: .5px solid gray;'>-0.052</td><td align='left' style='border: .5px solid gray;'>0.344</td><td align='left' style='border: .5px solid gray;'>-0.029</td><td align='left' style='border: .5px solid gray;'>-0.033</td><td align='left' style='border: .5px solid gray;'>0.031</td><td align='left' style='border: .5px solid gray;'>0.081</td><td align='left' style='border: .5px solid gray;'>-0.652</td><td align='left' style='border: .5px solid gray;'>-0.232</td><td align='left' style='border: .5px solid gray;'>-0.219</td><td align='left' style='border: .5px solid gray;'>0.237</td><td align='left' style='border: .5px solid gray;'>0.267</td><td align='left' style='border: .5px solid gray;'>0.171</td><td align='left' style='border: .5px solid gray;'>-0.013</td><td align='left' style='border: .5px solid gray;'>-0.109</td><td align='left' style='border: .5px solid gray;'>-0.053</td><td align='left' style='border: .5px solid gray;'>0.033</td><td align='left' style='border: .5px solid gray;'>-0.071</td><td align='left' style='border: .5px solid gray;'>0.052</td><td align='left' style='border: .5px solid gray;'>0.035</td><td align='left' style='border: .5px solid gray;'>0.006</td><td align='left' style='border: .5px solid gray;'>-0.017</td><td align='left' style='border: .5px solid gray;'>-0.194</td><td align='left' style='border: .5px solid gray;'>0.05</td><td align='left' style='border: .5px solid gray;'>-0.03</td><td align='left' style='border: .5px solid gray;'>-0.029</td><td align='left' style='border: .5px solid gray;'>0.042</td><td align='left' style='border: .5px solid gray;'>0.059</td><td align='left' style='border: .5px solid gray;'>0.059</td><td align='left' style='border: .5px solid gray;'>-0.082</td><td align='left' style='border: .5px solid gray;'>0.027</td><td align='left' style='border: .5px solid gray;'>-0.002</td><td align='left' style='border: .5px solid gray;'>0.047</td><td align='left' style='border: .5px solid gray;'>-0.011</td><td align='left' style='border: .5px solid gray;'>0.001</td><td align='left' style='border: .5px solid gray;'>-0.06</td><td align='left' style='border: .5px solid gray;'>0.01</td><td align='left' style='border: .5px solid gray;'>0.007</td><td align='left' style='border: .5px solid gray;'>0.019</td><td align='left' style='border: .5px solid gray;'>0.028</td><td align='left' style='border: .5px solid gray;'>0.003</td><td align='left' style='border: .5px solid gray;'>0.042</td><td align='left' style='border: .5px solid gray;'>-0.032</td><td align='left' style='border: .5px solid gray;'>-0.023</td><td align='left' style='border: .5px solid gray;'>0.001</td><td align='left' style='border: .5px solid gray;'>0.049</td><td align='left' style='border: .5px solid gray;'>-0.047</td><td align='left' style='border: .5px solid gray;'>0.016</td><td align='left' style='border: .5px solid gray;'>0.021</td><td align='left' style='border: .5px solid gray;'>0.011</td><td align='left' style='border: .5px solid gray;'>-0.007</td><td align='left' style='border: .5px solid gray;'>0.005</td><td align='left' style='border: .5px solid gray;'>-0.021</td><td align='left' style='border: .5px solid gray;'>-0.017</td><td align='left' style='border: .5px solid gray;'>-0.021</td><td align='left' style='border: .5px solid gray;'>-0.015</td><td align='left' style='border: .5px solid gray;'>-0.001</td><td align='left' style='border: .5px solid gray;'>0.023</td><td align='left' style='border: .5px solid gray;'>0.044</td><td align='left' style='border: .5px solid gray;'>0.013</td><td align='left' style='border: .5px solid gray;'>0.005</td><td align='left' style='border: .5px solid gray;'>-0.009</td><td align='left' style='border: .5px solid gray;'>-0.005</td><td align='left' style='border: .5px solid gray;'>0.021</td><td align='left' style='border: .5px solid gray;'>0.02</td><td align='left' style='border: .5px solid gray;'>-0.006</td><td align='left' style='border: .5px solid gray;'>0.012</td><td align='left' style='border: .5px solid gray;'>0.009</td><td align='left' style='border: .5px solid gray;'>-0.003</td><td align='left' style='border: .5px solid gray;'>-0.004</td><td align='left' style='border: .5px solid gray;'>0.02</td><td align='left' style='border: .5px solid gray;'>0.008</td><td align='left' style='border: .5px solid gray;'>-0.02</td><td align='left' style='border: .5px solid gray;'>0.003</td><td align='left' style='border: .5px solid gray;'>0.003</td><td align='left' style='border: .5px solid gray;'>-0.012</td><td align='left' style='border: .5px solid gray;'>-0.013</td><td align='left' style='border: .5px solid gray;'>0.004</td><td align='left' style='border: .5px solid gray;'>0.018</td><td align='left' style='border: .5px solid gray;'>0.005</td><td align='left' style='border: .5px solid gray;'>0.008</td><td align='left' style='border: .5px solid gray;'>0.016</td><td align='left' style='border: .5px solid gray;'>0.006</td><td align='left' style='border: .5px solid gray;'>0.012</td><td align='left' style='border: .5px solid gray;'>-0.0</td><td align='left' style='border: .5px solid gray;'>0.001</td><td align='left' style='border: .5px solid gray;'>-0.001</td><td align='left' style='border: .5px solid gray;'>-0.013</td><td align='left' style='border: .5px solid gray;'>-0.03</td><td align='left' style='border: .5px solid gray;'>0.011</td><td align='left' style='border: .5px solid gray;'>-0.009</td><td align='left' style='border: .5px solid gray;'>0.001</td><td align='left' style='border: .5px solid gray;'>-0.0</td><td align='left' style='border: .5px solid gray;'>-0.007</td><td align='left' style='border: .5px solid gray;'>0.004</td><td align='left' style='border: .5px solid gray;'>0.007</td><td align='left' style='border: .5px solid gray;'>-0.002</td><td align='left' style='border: .5px solid gray;'>-0.001</td><td align='left' style='border: .5px solid gray;'>-0.003</td></tr><tr><td align='left' style='border: .5px solid gray;'>energy</td><td align='left' style='border: .5px solid gray;'>0.214</td><td align='left' style='border: .5px solid gray;'>-0.145</td><td align='left' style='border: .5px solid gray;'>0.066</td><td align='left' style='border: .5px solid gray;'>0.107</td><td align='left' style='border: .5px solid gray;'>0.216</td><td align='left' style='border: .5px solid gray;'>0.495</td><td align='left' style='border: .5px solid gray;'>0.342</td><td align='left' style='border: .5px solid gray;'>0.583</td><td align='left' style='border: .5px solid gray;'>0.096</td><td align='left' style='border: .5px solid gray;'>0.152</td><td align='left' style='border: .5px solid gray;'>0.046</td><td align='left' style='border: .5px solid gray;'>-0.015</td><td align='left' style='border: .5px solid gray;'>-0.113</td><td align='left' style='border: .5px solid gray;'>-0.094</td><td align='left' style='border: .5px solid gray;'>-0.044</td><td align='left' style='border: .5px solid gray;'>0.09</td><td align='left' style='border: .5px solid gray;'>-0.073</td><td align='left' style='border: .5px solid gray;'>-0.001</td><td align='left' style='border: .5px solid gray;'>-0.019</td><td align='left' style='border: .5px solid gray;'>0.007</td><td align='left' style='border: .5px solid gray;'>0.012</td><td align='left' style='border: .5px solid gray;'>0.017</td><td align='left' style='border: .5px solid gray;'>-0.1</td><td align='left' style='border: .5px solid gray;'>-0.106</td><td align='left' style='border: .5px solid gray;'>-0.003</td><td align='left' style='border: .5px solid gray;'>-0.136</td><td align='left' style='border: .5px solid gray;'>0.054</td><td align='left' style='border: .5px solid gray;'>-0.023</td><td align='left' style='border: .5px solid gray;'>-0.065</td><td align='left' style='border: .5px solid gray;'>0.032</td><td align='left' style='border: .5px solid gray;'>0.023</td><td align='left' style='border: .5px solid gray;'>0.084</td><td align='left' style='border: .5px solid gray;'>-0.101</td><td align='left' style='border: .5px solid gray;'>0.002</td><td align='left' style='border: .5px solid gray;'>-0.074</td><td align='left' style='border: .5px solid gray;'>0.053</td><td align='left' style='border: .5px solid gray;'>0.03</td><td align='left' style='border: .5px solid gray;'>0.034</td><td align='left' style='border: .5px solid gray;'>0.062</td><td align='left' style='border: .5px solid gray;'>0.015</td><td align='left' style='border: .5px solid gray;'>0.037</td><td align='left' style='border: .5px solid gray;'>0.019</td><td align='left' style='border: .5px solid gray;'>0.007</td><td align='left' style='border: .5px solid gray;'>0.043</td><td align='left' style='border: .5px solid gray;'>-0.007</td><td align='left' style='border: .5px solid gray;'>0.005</td><td align='left' style='border: .5px solid gray;'>0.039</td><td align='left' style='border: .5px solid gray;'>0.024</td><td align='left' style='border: .5px solid gray;'>0.028</td><td align='left' style='border: .5px solid gray;'>-0.007</td><td align='left' style='border: .5px solid gray;'>0.017</td><td align='left' style='border: .5px solid gray;'>0.027</td><td align='left' style='border: .5px solid gray;'>0.024</td><td align='left' style='border: .5px solid gray;'>-0.014</td><td align='left' style='border: .5px solid gray;'>-0.013</td><td align='left' style='border: .5px solid gray;'>0.009</td><td align='left' style='border: .5px solid gray;'>0.042</td><td align='left' style='border: .5px solid gray;'>-0.009</td><td align='left' style='border: .5px solid gray;'>0.019</td><td align='left' style='border: .5px solid gray;'>-0.009</td><td align='left' style='border: .5px solid gray;'>-0.029</td><td align='left' style='border: .5px solid gray;'>-0.007</td><td align='left' style='border: .5px solid gray;'>-0.003</td><td align='left' style='border: .5px solid gray;'>-0.004</td><td align='left' style='border: .5px solid gray;'>-0.003</td><td align='left' style='border: .5px solid gray;'>-0.005</td><td align='left' style='border: .5px solid gray;'>0.023</td><td align='left' style='border: .5px solid gray;'>0.03</td><td align='left' style='border: .5px solid gray;'>-0.01</td><td align='left' style='border: .5px solid gray;'>-0.005</td><td align='left' style='border: .5px solid gray;'>-0.013</td><td align='left' style='border: .5px solid gray;'>-0.014</td><td align='left' style='border: .5px solid gray;'>-0.005</td><td align='left' style='border: .5px solid gray;'>0.013</td><td align='left' style='border: .5px solid gray;'>0.001</td><td align='left' style='border: .5px solid gray;'>-0.007</td><td align='left' style='border: .5px solid gray;'>-0.005</td><td align='left' style='border: .5px solid gray;'>0.006</td><td align='left' style='border: .5px solid gray;'>-0.012</td><td align='left' style='border: .5px solid gray;'>0.006</td><td align='left' style='border: .5px solid gray;'>0.011</td><td align='left' style='border: .5px solid gray;'>-0.008</td><td align='left' style='border: .5px solid gray;'>0.001</td><td align='left' style='border: .5px solid gray;'>-0.005</td><td align='left' style='border: .5px solid gray;'>-0.011</td><td align='left' style='border: .5px solid gray;'>-0.009</td><td align='left' style='border: .5px solid gray;'>0.012</td><td align='left' style='border: .5px solid gray;'>0.008</td><td align='left' style='border: .5px solid gray;'>-0.003</td><td align='left' style='border: .5px solid gray;'>0.005</td><td align='left' style='border: .5px solid gray;'>0.014</td><td align='left' style='border: .5px solid gray;'>0.001</td><td align='left' style='border: .5px solid gray;'>0.007</td><td align='left' style='border: .5px solid gray;'>-0.007</td><td align='left' style='border: .5px solid gray;'>-0.007</td><td align='left' style='border: .5px solid gray;'>0.0</td><td align='left' style='border: .5px solid gray;'>0.012</td><td align='left' style='border: .5px solid gray;'>-0.007</td><td align='left' style='border: .5px solid gray;'>0.006</td><td align='left' style='border: .5px solid gray;'>0.002</td></tr><tr><td align='left' style='border: .5px solid gray;'>temperature</td><td align='left' style='border: .5px solid gray;'>0.228</td><td align='left' style='border: .5px solid gray;'>-0.07</td><td align='left' style='border: .5px solid gray;'>-0.288</td><td align='left' style='border: .5px solid gray;'>0.105</td><td align='left' style='border: .5px solid gray;'>-0.131</td><td align='left' style='border: .5px solid gray;'>-0.257</td><td align='left' style='border: .5px solid gray;'>-0.119</td><td align='left' style='border: .5px solid gray;'>0.184</td><td align='left' style='border: .5px solid gray;'>-0.017</td><td align='left' style='border: .5px solid gray;'>-0.387</td><td align='left' style='border: .5px solid gray;'>0.535</td><td align='left' style='border: .5px solid gray;'>-0.24</td><td align='left' style='border: .5px solid gray;'>-0.259</td><td align='left' style='border: .5px solid gray;'>-0.146</td><td align='left' style='border: .5px solid gray;'>-0.099</td><td align='left' style='border: .5px solid gray;'>0.035</td><td align='left' style='border: .5px solid gray;'>-0.089</td><td align='left' style='border: .5px solid gray;'>-0.05</td><td align='left' style='border: .5px solid gray;'>-0.061</td><td align='left' style='border: .5px solid gray;'>-0.082</td><td align='left' style='border: .5px solid gray;'>0.162</td><td align='left' style='border: .5px solid gray;'>0.112</td><td align='left' style='border: .5px solid gray;'>-0.028</td><td align='left' style='border: .5px solid gray;'>-0.057</td><td align='left' style='border: .5px solid gray;'>-0.041</td><td align='left' style='border: .5px solid gray;'>-0.032</td><td align='left' style='border: .5px solid gray;'>-0.082</td><td align='left' style='border: .5px solid gray;'>0.017</td><td align='left' style='border: .5px solid gray;'>0.073</td><td align='left' style='border: .5px solid gray;'>-0.011</td><td align='left' style='border: .5px solid gray;'>-0.038</td><td align='left' style='border: .5px solid gray;'>-0.023</td><td align='left' style='border: .5px solid gray;'>-0.011</td><td align='left' style='border: .5px solid gray;'>-0.016</td><td align='left' style='border: .5px solid gray;'>-0.026</td><td align='left' style='border: .5px solid gray;'>0.0</td><td align='left' style='border: .5px solid gray;'>-0.058</td><td align='left' style='border: .5px solid gray;'>0.022</td><td align='left' style='border: .5px solid gray;'>0.049</td><td align='left' style='border: .5px solid gray;'>0.022</td><td align='left' style='border: .5px solid gray;'>-0.001</td><td align='left' style='border: .5px solid gray;'>-0.015</td><td align='left' style='border: .5px solid gray;'>0.061</td><td align='left' style='border: .5px solid gray;'>0.064</td><td align='left' style='border: .5px solid gray;'>-0.025</td><td align='left' style='border: .5px solid gray;'>0.016</td><td align='left' style='border: .5px solid gray;'>-0.023</td><td align='left' style='border: .5px solid gray;'>0.026</td><td align='left' style='border: .5px solid gray;'>-0.012</td><td align='left' style='border: .5px solid gray;'>-0.012</td><td align='left' style='border: .5px solid gray;'>-0.016</td><td align='left' style='border: .5px solid gray;'>0.046</td><td align='left' style='border: .5px solid gray;'>-0.048</td><td align='left' style='border: .5px solid gray;'>-0.059</td><td align='left' style='border: .5px solid gray;'>-0.023</td><td align='left' style='border: .5px solid gray;'>0.026</td><td align='left' style='border: .5px solid gray;'>0.011</td><td align='left' style='border: .5px solid gray;'>-0.02</td><td align='left' style='border: .5px solid gray;'>-0.002</td><td align='left' style='border: .5px solid gray;'>0.018</td><td align='left' style='border: .5px solid gray;'>0.008</td><td align='left' style='border: .5px solid gray;'>0.037</td><td align='left' style='border: .5px solid gray;'>0.04</td><td align='left' style='border: .5px solid gray;'>0.01</td><td align='left' style='border: .5px solid gray;'>-0.017</td><td align='left' style='border: .5px solid gray;'>0.036</td><td align='left' style='border: .5px solid gray;'>-0.009</td><td align='left' style='border: .5px solid gray;'>0.021</td><td align='left' style='border: .5px solid gray;'>0.009</td><td align='left' style='border: .5px solid gray;'>0.017</td><td align='left' style='border: .5px solid gray;'>0.037</td><td align='left' style='border: .5px solid gray;'>-0.003</td><td align='left' style='border: .5px solid gray;'>-0.022</td><td align='left' style='border: .5px solid gray;'>0.005</td><td align='left' style='border: .5px solid gray;'>0.026</td><td align='left' style='border: .5px solid gray;'>0.007</td><td align='left' style='border: .5px solid gray;'>0.0</td><td align='left' style='border: .5px solid gray;'>0.019</td><td align='left' style='border: .5px solid gray;'>0.004</td><td align='left' style='border: .5px solid gray;'>-0.01</td><td align='left' style='border: .5px solid gray;'>-0.004</td><td align='left' style='border: .5px solid gray;'>-0.001</td><td align='left' style='border: .5px solid gray;'>-0.015</td><td align='left' style='border: .5px solid gray;'>-0.013</td><td align='left' style='border: .5px solid gray;'>0.019</td><td align='left' style='border: .5px solid gray;'>0.016</td><td align='left' style='border: .5px solid gray;'>0.005</td><td align='left' style='border: .5px solid gray;'>0.027</td><td align='left' style='border: .5px solid gray;'>-0.006</td><td align='left' style='border: .5px solid gray;'>0.042</td><td align='left' style='border: .5px solid gray;'>0.025</td><td align='left' style='border: .5px solid gray;'>0.019</td><td align='left' style='border: .5px solid gray;'>0.011</td><td align='left' style='border: .5px solid gray;'>-0.012</td><td align='left' style='border: .5px solid gray;'>0.021</td><td align='left' style='border: .5px solid gray;'>0.023</td><td align='left' style='border: .5px solid gray;'>-0.014</td><td align='left' style='border: .5px solid gray;'>-0.015</td><td align='left' style='border: .5px solid gray;'>0.014</td><td align='left' style='border: .5px solid gray;'>-0.02</td></tr><tr><td align='left' style='border: .5px solid gray;'>atmosphere</td><td align='left' style='border: .5px solid gray;'>0.221</td><td align='left' style='border: .5px solid gray;'>-0.158</td><td align='left' style='border: .5px solid gray;'>-0.077</td><td align='left' style='border: .5px solid gray;'>0.23</td><td align='left' style='border: .5px solid gray;'>0.098</td><td align='left' style='border: .5px solid gray;'>0.291</td><td align='left' style='border: .5px solid gray;'>-0.118</td><td align='left' style='border: .5px solid gray;'>-0.499</td><td align='left' style='border: .5px solid gray;'>-0.067</td><td align='left' style='border: .5px solid gray;'>0.087</td><td align='left' style='border: .5px solid gray;'>-0.131</td><td align='left' style='border: .5px solid gray;'>-0.192</td><td align='left' style='border: .5px solid gray;'>-0.271</td><td align='left' style='border: .5px solid gray;'>-0.161</td><td align='left' style='border: .5px solid gray;'>-0.339</td><td align='left' style='border: .5px solid gray;'>0.255</td><td align='left' style='border: .5px solid gray;'>-0.108</td><td align='left' style='border: .5px solid gray;'>0.076</td><td align='left' style='border: .5px solid gray;'>0.227</td><td align='left' style='border: .5px solid gray;'>0.043</td><td align='left' style='border: .5px solid gray;'>-0.04</td><td align='left' style='border: .5px solid gray;'>-0.177</td><td align='left' style='border: .5px solid gray;'>0.05</td><td align='left' style='border: .5px solid gray;'>-0.081</td><td align='left' style='border: .5px solid gray;'>-0.12</td><td align='left' style='border: .5px solid gray;'>0.053</td><td align='left' style='border: .5px solid gray;'>-0.062</td><td align='left' style='border: .5px solid gray;'>0.02</td><td align='left' style='border: .5px solid gray;'>0.02</td><td align='left' style='border: .5px solid gray;'>0.061</td><td align='left' style='border: .5px solid gray;'>-0.042</td><td align='left' style='border: .5px solid gray;'>-0.022</td><td align='left' style='border: .5px solid gray;'>0.003</td><td align='left' style='border: .5px solid gray;'>0.055</td><td align='left' style='border: .5px solid gray;'>0.014</td><td align='left' style='border: .5px solid gray;'>-0.007</td><td align='left' style='border: .5px solid gray;'>-0.053</td><td align='left' style='border: .5px solid gray;'>-0.009</td><td align='left' style='border: .5px solid gray;'>-0.046</td><td align='left' style='border: .5px solid gray;'>-0.023</td><td align='left' style='border: .5px solid gray;'>0.008</td><td align='left' style='border: .5px solid gray;'>0.009</td><td align='left' style='border: .5px solid gray;'>0.024</td><td align='left' style='border: .5px solid gray;'>0.006</td><td align='left' style='border: .5px solid gray;'>0.031</td><td align='left' style='border: .5px solid gray;'>-0.002</td><td align='left' style='border: .5px solid gray;'>0.034</td><td align='left' style='border: .5px solid gray;'>0.008</td><td align='left' style='border: .5px solid gray;'>0.036</td><td align='left' style='border: .5px solid gray;'>-0.009</td><td align='left' style='border: .5px solid gray;'>0.002</td><td align='left' style='border: .5px solid gray;'>-0.003</td><td align='left' style='border: .5px solid gray;'>0.005</td><td align='left' style='border: .5px solid gray;'>-0.023</td><td align='left' style='border: .5px solid gray;'>-0.0</td><td align='left' style='border: .5px solid gray;'>-0.013</td><td align='left' style='border: .5px solid gray;'>0.02</td><td align='left' style='border: .5px solid gray;'>-0.025</td><td align='left' style='border: .5px solid gray;'>-0.022</td><td align='left' style='border: .5px solid gray;'>-0.001</td><td align='left' style='border: .5px solid gray;'>0.003</td><td align='left' style='border: .5px solid gray;'>0.0</td><td align='left' style='border: .5px solid gray;'>-0.009</td><td align='left' style='border: .5px solid gray;'>0.004</td><td align='left' style='border: .5px solid gray;'>0.007</td><td align='left' style='border: .5px solid gray;'>0.002</td><td align='left' style='border: .5px solid gray;'>0.01</td><td align='left' style='border: .5px solid gray;'>0.016</td><td align='left' style='border: .5px solid gray;'>-0.017</td><td align='left' style='border: .5px solid gray;'>0.002</td><td align='left' style='border: .5px solid gray;'>0.027</td><td align='left' style='border: .5px solid gray;'>-0.001</td><td align='left' style='border: .5px solid gray;'>0.021</td><td align='left' style='border: .5px solid gray;'>0.011</td><td align='left' style='border: .5px solid gray;'>-0.012</td><td align='left' style='border: .5px solid gray;'>0.007</td><td align='left' style='border: .5px solid gray;'>-0.024</td><td align='left' style='border: .5px solid gray;'>-0.004</td><td align='left' style='border: .5px solid gray;'>-0.011</td><td align='left' style='border: .5px solid gray;'>0.009</td><td align='left' style='border: .5px solid gray;'>0.017</td><td align='left' style='border: .5px solid gray;'>-0.022</td><td align='left' style='border: .5px solid gray;'>0.027</td><td align='left' style='border: .5px solid gray;'>0.008</td><td align='left' style='border: .5px solid gray;'>-0.01</td><td align='left' style='border: .5px solid gray;'>0.006</td><td align='left' style='border: .5px solid gray;'>-0.024</td><td align='left' style='border: .5px solid gray;'>0.005</td><td align='left' style='border: .5px solid gray;'>-0.014</td><td align='left' style='border: .5px solid gray;'>-0.017</td><td align='left' style='border: .5px solid gray;'>0.01</td><td align='left' style='border: .5px solid gray;'>0.007</td><td align='left' style='border: .5px solid gray;'>-0.005</td><td align='left' style='border: .5px solid gray;'>-0.001</td><td align='left' style='border: .5px solid gray;'>0.007</td><td align='left' style='border: .5px solid gray;'>0.027</td><td align='left' style='border: .5px solid gray;'>0.028</td><td align='left' style='border: .5px solid gray;'>-0.026</td><td align='left' style='border: .5px solid gray;'>0.0</td><td align='left' style='border: .5px solid gray;'>0.003</td></tr><tr><td align='left' style='border: .5px solid gray;'>year</td><td align='left' style='border: .5px solid gray;'>0.148</td><td align='left' style='border: .5px solid gray;'>0.141</td><td align='left' style='border: .5px solid gray;'>-0.007</td><td align='left' style='border: .5px solid gray;'>-0.151</td><td align='left' style='border: .5px solid gray;'>-0.2</td><td align='left' style='border: .5px solid gray;'>0.169</td><td align='left' style='border: .5px solid gray;'>-0.196</td><td align='left' style='border: .5px solid gray;'>0.102</td><td align='left' style='border: .5px solid gray;'>0.235</td><td align='left' style='border: .5px solid gray;'>-0.321</td><td align='left' style='border: .5px solid gray;'>-0.348</td><td align='left' style='border: .5px solid gray;'>-0.1</td><td align='left' style='border: .5px solid gray;'>0.351</td><td align='left' style='border: .5px solid gray;'>-0.459</td><td align='left' style='border: .5px solid gray;'>-0.185</td><td align='left' style='border: .5px solid gray;'>-0.223</td><td align='left' style='border: .5px solid gray;'>-0.108</td><td align='left' style='border: .5px solid gray;'>-0.01</td><td align='left' style='border: .5px solid gray;'>0.135</td><td align='left' style='border: .5px solid gray;'>0.103</td><td align='left' style='border: .5px solid gray;'>0.076</td><td align='left' style='border: .5px solid gray;'>0.033</td><td align='left' style='border: .5px solid gray;'>-0.026</td><td align='left' style='border: .5px solid gray;'>-0.01</td><td align='left' style='border: .5px solid gray;'>0.114</td><td align='left' style='border: .5px solid gray;'>-0.06</td><td align='left' style='border: .5px solid gray;'>-0.026</td><td align='left' style='border: .5px solid gray;'>-0.03</td><td align='left' style='border: .5px solid gray;'>-0.018</td><td align='left' style='border: .5px solid gray;'>0.025</td><td align='left' style='border: .5px solid gray;'>-0.009</td><td align='left' style='border: .5px solid gray;'>-0.007</td><td align='left' style='border: .5px solid gray;'>-0.021</td><td align='left' style='border: .5px solid gray;'>-0.037</td><td align='left' style='border: .5px solid gray;'>-0.032</td><td align='left' style='border: .5px solid gray;'>-0.03</td><td align='left' style='border: .5px solid gray;'>-0.008</td><td align='left' style='border: .5px solid gray;'>-0.042</td><td align='left' style='border: .5px solid gray;'>0.054</td><td align='left' style='border: .5px solid gray;'>-0.013</td><td align='left' style='border: .5px solid gray;'>-0.025</td><td align='left' style='border: .5px solid gray;'>-0.045</td><td align='left' style='border: .5px solid gray;'>-0.03</td><td align='left' style='border: .5px solid gray;'>0.003</td><td align='left' style='border: .5px solid gray;'>-0.034</td><td align='left' style='border: .5px solid gray;'>0.02</td><td align='left' style='border: .5px solid gray;'>-0.042</td><td align='left' style='border: .5px solid gray;'>0.009</td><td align='left' style='border: .5px solid gray;'>0.015</td><td align='left' style='border: .5px solid gray;'>0.048</td><td align='left' style='border: .5px solid gray;'>-0.003</td><td align='left' style='border: .5px solid gray;'>-0.013</td><td align='left' style='border: .5px solid gray;'>-0.032</td><td align='left' style='border: .5px solid gray;'>-0.075</td><td align='left' style='border: .5px solid gray;'>0.021</td><td align='left' style='border: .5px solid gray;'>-0.07</td><td align='left' style='border: .5px solid gray;'>-0.012</td><td align='left' style='border: .5px solid gray;'>-0.024</td><td align='left' style='border: .5px solid gray;'>0.041</td><td align='left' style='border: .5px solid gray;'>-0.04</td><td align='left' style='border: .5px solid gray;'>-0.01</td><td align='left' style='border: .5px solid gray;'>0.009</td><td align='left' style='border: .5px solid gray;'>0.055</td><td align='left' style='border: .5px solid gray;'>-0.002</td><td align='left' style='border: .5px solid gray;'>-0.016</td><td align='left' style='border: .5px solid gray;'>0.01</td><td align='left' style='border: .5px solid gray;'>0.011</td><td align='left' style='border: .5px solid gray;'>0.014</td><td align='left' style='border: .5px solid gray;'>-0.016</td><td align='left' style='border: .5px solid gray;'>-0.005</td><td align='left' style='border: .5px solid gray;'>-0.009</td><td align='left' style='border: .5px solid gray;'>-0.012</td><td align='left' style='border: .5px solid gray;'>-0.016</td><td align='left' style='border: .5px solid gray;'>0.001</td><td align='left' style='border: .5px solid gray;'>-0.003</td><td align='left' style='border: .5px solid gray;'>0.012</td><td align='left' style='border: .5px solid gray;'>-0.01</td><td align='left' style='border: .5px solid gray;'>-0.018</td><td align='left' style='border: .5px solid gray;'>0.008</td><td align='left' style='border: .5px solid gray;'>-0.015</td><td align='left' style='border: .5px solid gray;'>0.01</td><td align='left' style='border: .5px solid gray;'>-0.001</td><td align='left' style='border: .5px solid gray;'>-0.014</td><td align='left' style='border: .5px solid gray;'>-0.018</td><td align='left' style='border: .5px solid gray;'>-0.006</td><td align='left' style='border: .5px solid gray;'>0.008</td><td align='left' style='border: .5px solid gray;'>-0.001</td><td align='left' style='border: .5px solid gray;'>0.006</td><td align='left' style='border: .5px solid gray;'>0.024</td><td align='left' style='border: .5px solid gray;'>0.005</td><td align='left' style='border: .5px solid gray;'>-0.008</td><td align='left' style='border: .5px solid gray;'>0.013</td><td align='left' style='border: .5px solid gray;'>0.001</td><td align='left' style='border: .5px solid gray;'>-0.001</td><td align='left' style='border: .5px solid gray;'>0.011</td><td align='left' style='border: .5px solid gray;'>0.031</td><td align='left' style='border: .5px solid gray;'>0.003</td><td align='left' style='border: .5px solid gray;'>-0.022</td><td align='left' style='border: .5px solid gray;'>-0.023</td><td align='left' style='border: .5px solid gray;'>0.005</td></tr><tr><td align='left' style='border: .5px solid gray;'>air</td><td align='left' style='border: .5px solid gray;'>0.143</td><td align='left' style='border: .5px solid gray;'>-0.019</td><td align='left' style='border: .5px solid gray;'>-0.228</td><td align='left' style='border: .5px solid gray;'>0.301</td><td align='left' style='border: .5px solid gray;'>-0.142</td><td align='left' style='border: .5px solid gray;'>-0.322</td><td align='left' style='border: .5px solid gray;'>-0.037</td><td align='left' style='border: .5px solid gray;'>0.129</td><td align='left' style='border: .5px solid gray;'>0.344</td><td align='left' style='border: .5px solid gray;'>0.39</td><td align='left' style='border: .5px solid gray;'>-0.145</td><td align='left' style='border: .5px solid gray;'>-0.056</td><td align='left' style='border: .5px solid gray;'>0.179</td><td align='left' style='border: .5px solid gray;'>0.224</td><td align='left' style='border: .5px solid gray;'>-0.135</td><td align='left' style='border: .5px solid gray;'>0.047</td><td align='left' style='border: .5px solid gray;'>-0.182</td><td align='left' style='border: .5px solid gray;'>-0.195</td><td align='left' style='border: .5px solid gray;'>0.168</td><td align='left' style='border: .5px solid gray;'>-0.094</td><td align='left' style='border: .5px solid gray;'>-0.132</td><td align='left' style='border: .5px solid gray;'>0.151</td><td align='left' style='border: .5px solid gray;'>-0.1</td><td align='left' style='border: .5px solid gray;'>-0.187</td><td align='left' style='border: .5px solid gray;'>0.119</td><td align='left' style='border: .5px solid gray;'>0.077</td><td align='left' style='border: .5px solid gray;'>-0.019</td><td align='left' style='border: .5px solid gray;'>0.018</td><td align='left' style='border: .5px solid gray;'>0.076</td><td align='left' style='border: .5px solid gray;'>0.035</td><td align='left' style='border: .5px solid gray;'>0.031</td><td align='left' style='border: .5px solid gray;'>0.042</td><td align='left' style='border: .5px solid gray;'>-0.0</td><td align='left' style='border: .5px solid gray;'>0.046</td><td align='left' style='border: .5px solid gray;'>0.023</td><td align='left' style='border: .5px solid gray;'>-0.049</td><td align='left' style='border: .5px solid gray;'>0.003</td><td align='left' style='border: .5px solid gray;'>-0.01</td><td align='left' style='border: .5px solid gray;'>-0.028</td><td align='left' style='border: .5px solid gray;'>-0.076</td><td align='left' style='border: .5px solid gray;'>0.019</td><td align='left' style='border: .5px solid gray;'>-0.029</td><td align='left' style='border: .5px solid gray;'>0.022</td><td align='left' style='border: .5px solid gray;'>0.022</td><td align='left' style='border: .5px solid gray;'>-0.036</td><td align='left' style='border: .5px solid gray;'>-0.016</td><td align='left' style='border: .5px solid gray;'>-0.056</td><td align='left' style='border: .5px solid gray;'>-0.012</td><td align='left' style='border: .5px solid gray;'>0.028</td><td align='left' style='border: .5px solid gray;'>0.058</td><td align='left' style='border: .5px solid gray;'>0.021</td><td align='left' style='border: .5px solid gray;'>0.023</td><td align='left' style='border: .5px solid gray;'>-0.002</td><td align='left' style='border: .5px solid gray;'>-0.033</td><td align='left' style='border: .5px solid gray;'>-0.057</td><td align='left' style='border: .5px solid gray;'>-0.039</td><td align='left' style='border: .5px solid gray;'>-0.021</td><td align='left' style='border: .5px solid gray;'>0.043</td><td align='left' style='border: .5px solid gray;'>0.008</td><td align='left' style='border: .5px solid gray;'>0.073</td><td align='left' style='border: .5px solid gray;'>0.005</td><td align='left' style='border: .5px solid gray;'>-0.091</td><td align='left' style='border: .5px solid gray;'>-0.004</td><td align='left' style='border: .5px solid gray;'>-0.037</td><td align='left' style='border: .5px solid gray;'>-0.04</td><td align='left' style='border: .5px solid gray;'>0.006</td><td align='left' style='border: .5px solid gray;'>0.007</td><td align='left' style='border: .5px solid gray;'>-0.033</td><td align='left' style='border: .5px solid gray;'>-0.001</td><td align='left' style='border: .5px solid gray;'>-0.028</td><td align='left' style='border: .5px solid gray;'>0.008</td><td align='left' style='border: .5px solid gray;'>-0.035</td><td align='left' style='border: .5px solid gray;'>0.003</td><td align='left' style='border: .5px solid gray;'>0.024</td><td align='left' style='border: .5px solid gray;'>-0.023</td><td align='left' style='border: .5px solid gray;'>0.005</td><td align='left' style='border: .5px solid gray;'>0.01</td><td align='left' style='border: .5px solid gray;'>0.002</td><td align='left' style='border: .5px solid gray;'>0.024</td><td align='left' style='border: .5px solid gray;'>0.029</td><td align='left' style='border: .5px solid gray;'>0.004</td><td align='left' style='border: .5px solid gray;'>-0.014</td><td align='left' style='border: .5px solid gray;'>0.007</td><td align='left' style='border: .5px solid gray;'>0.017</td><td align='left' style='border: .5px solid gray;'>-0.029</td><td align='left' style='border: .5px solid gray;'>-0.033</td><td align='left' style='border: .5px solid gray;'>-0.04</td><td align='left' style='border: .5px solid gray;'>0.077</td><td align='left' style='border: .5px solid gray;'>-0.009</td><td align='left' style='border: .5px solid gray;'>-0.025</td><td align='left' style='border: .5px solid gray;'>0.021</td><td align='left' style='border: .5px solid gray;'>-0.012</td><td align='left' style='border: .5px solid gray;'>0.012</td><td align='left' style='border: .5px solid gray;'>0.041</td><td align='left' style='border: .5px solid gray;'>-0.027</td><td align='left' style='border: .5px solid gray;'>0.007</td><td align='left' style='border: .5px solid gray;'>0.049</td><td align='left' style='border: .5px solid gray;'>-0.029</td><td align='left' style='border: .5px solid gray;'>0.026</td><td align='left' style='border: .5px solid gray;'>0.029</td></tr><tr><td align='left' style='border: .5px solid gray;'>hemisphere</td><td align='left' style='border: .5px solid gray;'>0.186</td><td align='left' style='border: .5px solid gray;'>0.618</td><td align='left' style='border: .5px solid gray;'>0.06</td><td align='left' style='border: .5px solid gray;'>0.094</td><td align='left' style='border: .5px solid gray;'>0.514</td><td align='left' style='border: .5px solid gray;'>-0.074</td><td align='left' style='border: .5px solid gray;'>-0.175</td><td align='left' style='border: .5px solid gray;'>0.016</td><td align='left' style='border: .5px solid gray;'>-0.034</td><td align='left' style='border: .5px solid gray;'>0.047</td><td align='left' style='border: .5px solid gray;'>0.091</td><td align='left' style='border: .5px solid gray;'>0.017</td><td align='left' style='border: .5px solid gray;'>0.007</td><td align='left' style='border: .5px solid gray;'>-0.018</td><td align='left' style='border: .5px solid gray;'>-0.01</td><td align='left' style='border: .5px solid gray;'>-0.007</td><td align='left' style='border: .5px solid gray;'>-0.044</td><td align='left' style='border: .5px solid gray;'>-0.027</td><td align='left' style='border: .5px solid gray;'>0.017</td><td align='left' style='border: .5px solid gray;'>0.031</td><td align='left' style='border: .5px solid gray;'>0.044</td><td align='left' style='border: .5px solid gray;'>-0.01</td><td align='left' style='border: .5px solid gray;'>-0.024</td><td align='left' style='border: .5px solid gray;'>-0.012</td><td align='left' style='border: .5px solid gray;'>0.004</td><td align='left' style='border: .5px solid gray;'>0.021</td><td align='left' style='border: .5px solid gray;'>-0.004</td><td align='left' style='border: .5px solid gray;'>-0.038</td><td align='left' style='border: .5px solid gray;'>-0.015</td><td align='left' style='border: .5px solid gray;'>-0.037</td><td align='left' style='border: .5px solid gray;'>-0.061</td><td align='left' style='border: .5px solid gray;'>-0.052</td><td align='left' style='border: .5px solid gray;'>-0.084</td><td align='left' style='border: .5px solid gray;'>0.016</td><td align='left' style='border: .5px solid gray;'>-0.03</td><td align='left' style='border: .5px solid gray;'>-0.054</td><td align='left' style='border: .5px solid gray;'>0.023</td><td align='left' style='border: .5px solid gray;'>-0.01</td><td align='left' style='border: .5px solid gray;'>0.023</td><td align='left' style='border: .5px solid gray;'>-0.032</td><td align='left' style='border: .5px solid gray;'>0.004</td><td align='left' style='border: .5px solid gray;'>-0.019</td><td align='left' style='border: .5px solid gray;'>0.012</td><td align='left' style='border: .5px solid gray;'>-0.005</td><td align='left' style='border: .5px solid gray;'>0.002</td><td align='left' style='border: .5px solid gray;'>0.004</td><td align='left' style='border: .5px solid gray;'>0.007</td><td align='left' style='border: .5px solid gray;'>-0.0</td><td align='left' style='border: .5px solid gray;'>-0.007</td><td align='left' style='border: .5px solid gray;'>0.044</td><td align='left' style='border: .5px solid gray;'>-0.017</td><td align='left' style='border: .5px solid gray;'>-0.028</td><td align='left' style='border: .5px solid gray;'>0.002</td><td align='left' style='border: .5px solid gray;'>0.032</td><td align='left' style='border: .5px solid gray;'>0.03</td><td align='left' style='border: .5px solid gray;'>-0.016</td><td align='left' style='border: .5px solid gray;'>-0.0</td><td align='left' style='border: .5px solid gray;'>0.002</td><td align='left' style='border: .5px solid gray;'>-0.008</td><td align='left' style='border: .5px solid gray;'>0.015</td><td align='left' style='border: .5px solid gray;'>0.043</td><td align='left' style='border: .5px solid gray;'>0.07</td><td align='left' style='border: .5px solid gray;'>0.053</td><td align='left' style='border: .5px solid gray;'>-0.174</td><td align='left' style='border: .5px solid gray;'>0.047</td><td align='left' style='border: .5px solid gray;'>-0.006</td><td align='left' style='border: .5px solid gray;'>0.062</td><td align='left' style='border: .5px solid gray;'>-0.015</td><td align='left' style='border: .5px solid gray;'>-0.081</td><td align='left' style='border: .5px solid gray;'>0.017</td><td align='left' style='border: .5px solid gray;'>0.041</td><td align='left' style='border: .5px solid gray;'>0.007</td><td align='left' style='border: .5px solid gray;'>0.032</td><td align='left' style='border: .5px solid gray;'>-0.111</td><td align='left' style='border: .5px solid gray;'>0.045</td><td align='left' style='border: .5px solid gray;'>0.004</td><td align='left' style='border: .5px solid gray;'>-0.017</td><td align='left' style='border: .5px solid gray;'>-0.003</td><td align='left' style='border: .5px solid gray;'>-0.012</td><td align='left' style='border: .5px solid gray;'>0.131</td><td align='left' style='border: .5px solid gray;'>-0.074</td><td align='left' style='border: .5px solid gray;'>0.032</td><td align='left' style='border: .5px solid gray;'>0.016</td><td align='left' style='border: .5px solid gray;'>-0.126</td><td align='left' style='border: .5px solid gray;'>0.033</td><td align='left' style='border: .5px solid gray;'>0.168</td><td align='left' style='border: .5px solid gray;'>-0.109</td><td align='left' style='border: .5px solid gray;'>0.034</td><td align='left' style='border: .5px solid gray;'>-0.132</td><td align='left' style='border: .5px solid gray;'>0.026</td><td align='left' style='border: .5px solid gray;'>0.016</td><td align='left' style='border: .5px solid gray;'>0.057</td><td align='left' style='border: .5px solid gray;'>-0.015</td><td align='left' style='border: .5px solid gray;'>0.091</td><td align='left' style='border: .5px solid gray;'>-0.074</td><td align='left' style='border: .5px solid gray;'>0.051</td><td align='left' style='border: .5px solid gray;'>-0.099</td><td align='left' style='border: .5px solid gray;'>0.128</td><td align='left' style='border: .5px solid gray;'>-0.049</td><td align='left' style='border: .5px solid gray;'>0.049</td></tr><tr><td align='left' style='border: .5px solid gray;'>time</td><td align='left' style='border: .5px solid gray;'>0.128</td><td align='left' style='border: .5px solid gray;'>0.046</td><td align='left' style='border: .5px solid gray;'>0.001</td><td align='left' style='border: .5px solid gray;'>-0.088</td><td align='left' style='border: .5px solid gray;'>-0.068</td><td align='left' style='border: .5px solid gray;'>0.064</td><td align='left' style='border: .5px solid gray;'>-0.077</td><td align='left' style='border: .5px solid gray;'>0.027</td><td align='left' style='border: .5px solid gray;'>0.123</td><td align='left' style='border: .5px solid gray;'>-0.116</td><td align='left' style='border: .5px solid gray;'>-0.129</td><td align='left' style='border: .5px solid gray;'>0.122</td><td align='left' style='border: .5px solid gray;'>-0.491</td><td align='left' style='border: .5px solid gray;'>0.394</td><td align='left' style='border: .5px solid gray;'>-0.184</td><td align='left' style='border: .5px solid gray;'>-0.557</td><td align='left' style='border: .5px solid gray;'>0.209</td><td align='left' style='border: .5px solid gray;'>-0.061</td><td align='left' style='border: .5px solid gray;'>0.161</td><td align='left' style='border: .5px solid gray;'>-0.014</td><td align='left' style='border: .5px solid gray;'>-0.006</td><td align='left' style='border: .5px solid gray;'>-0.105</td><td align='left' style='border: .5px solid gray;'>-0.054</td><td align='left' style='border: .5px solid gray;'>-0.109</td><td align='left' style='border: .5px solid gray;'>0.002</td><td align='left' style='border: .5px solid gray;'>-0.131</td><td align='left' style='border: .5px solid gray;'>0.07</td><td align='left' style='border: .5px solid gray;'>0.015</td><td align='left' style='border: .5px solid gray;'>-0.064</td><td align='left' style='border: .5px solid gray;'>0.079</td><td align='left' style='border: .5px solid gray;'>0.037</td><td align='left' style='border: .5px solid gray;'>-0.068</td><td align='left' style='border: .5px solid gray;'>-0.028</td><td align='left' style='border: .5px solid gray;'>0.014</td><td align='left' style='border: .5px solid gray;'>0.017</td><td align='left' style='border: .5px solid gray;'>-0.035</td><td align='left' style='border: .5px solid gray;'>-0.015</td><td align='left' style='border: .5px solid gray;'>-0.009</td><td align='left' style='border: .5px solid gray;'>0.036</td><td align='left' style='border: .5px solid gray;'>-0.024</td><td align='left' style='border: .5px solid gray;'>-0.008</td><td align='left' style='border: .5px solid gray;'>0.012</td><td align='left' style='border: .5px solid gray;'>-0.006</td><td align='left' style='border: .5px solid gray;'>-0.019</td><td align='left' style='border: .5px solid gray;'>-0.026</td><td align='left' style='border: .5px solid gray;'>0.037</td><td align='left' style='border: .5px solid gray;'>-0.005</td><td align='left' style='border: .5px solid gray;'>-0.027</td><td align='left' style='border: .5px solid gray;'>0.028</td><td align='left' style='border: .5px solid gray;'>-0.01</td><td align='left' style='border: .5px solid gray;'>-0.002</td><td align='left' style='border: .5px solid gray;'>0.014</td><td align='left' style='border: .5px solid gray;'>-0.028</td><td align='left' style='border: .5px solid gray;'>-0.004</td><td align='left' style='border: .5px solid gray;'>-0.003</td><td align='left' style='border: .5px solid gray;'>-0.013</td><td align='left' style='border: .5px solid gray;'>0.018</td><td align='left' style='border: .5px solid gray;'>0.018</td><td align='left' style='border: .5px solid gray;'>-0.011</td><td align='left' style='border: .5px solid gray;'>0.016</td><td align='left' style='border: .5px solid gray;'>-0.012</td><td align='left' style='border: .5px solid gray;'>-0.024</td><td align='left' style='border: .5px solid gray;'>0.01</td><td align='left' style='border: .5px solid gray;'>0.013</td><td align='left' style='border: .5px solid gray;'>-0.017</td><td align='left' style='border: .5px solid gray;'>-0.002</td><td align='left' style='border: .5px solid gray;'>-0.002</td><td align='left' style='border: .5px solid gray;'>0.028</td><td align='left' style='border: .5px solid gray;'>-0.013</td><td align='left' style='border: .5px solid gray;'>-0.006</td><td align='left' style='border: .5px solid gray;'>-0.017</td><td align='left' style='border: .5px solid gray;'>-0.002</td><td align='left' style='border: .5px solid gray;'>-0.009</td><td align='left' style='border: .5px solid gray;'>-0.012</td><td align='left' style='border: .5px solid gray;'>-0.016</td><td align='left' style='border: .5px solid gray;'>0.001</td><td align='left' style='border: .5px solid gray;'>0.005</td><td align='left' style='border: .5px solid gray;'>-0.001</td><td align='left' style='border: .5px solid gray;'>-0.005</td><td align='left' style='border: .5px solid gray;'>0.011</td><td align='left' style='border: .5px solid gray;'>0.005</td><td align='left' style='border: .5px solid gray;'>-0.001</td><td align='left' style='border: .5px solid gray;'>0.022</td><td align='left' style='border: .5px solid gray;'>0.022</td><td align='left' style='border: .5px solid gray;'>0.035</td><td align='left' style='border: .5px solid gray;'>-0.003</td><td align='left' style='border: .5px solid gray;'>-0.018</td><td align='left' style='border: .5px solid gray;'>-0.007</td><td align='left' style='border: .5px solid gray;'>0.026</td><td align='left' style='border: .5px solid gray;'>-0.008</td><td align='left' style='border: .5px solid gray;'>-0.009</td><td align='left' style='border: .5px solid gray;'>0.02</td><td align='left' style='border: .5px solid gray;'>0.008</td><td align='left' style='border: .5px solid gray;'>0.013</td><td align='left' style='border: .5px solid gray;'>-0.002</td><td align='left' style='border: .5px solid gray;'>0.018</td><td align='left' style='border: .5px solid gray;'>-0.008</td><td align='left' style='border: .5px solid gray;'>0.005</td><td align='left' style='border: .5px solid gray;'>-0.018</td><td align='left' style='border: .5px solid gray;'>0.01</td></tr></table>"
      ],
      "text/plain": [
       "<IPython.core.display.HTML object>"
      ]
     },
     "metadata": {},
     "output_type": "display_data"
    }
   ],
   "source": [
    "rdims = w.value\n",
    "# do the SVD and reduce dimensions\n",
    "T, S, Dt = np.linalg.svd(training_dt_matrix2.transpose(), full_matrices = False)\n",
    "T_reduced = T[:, 0:rdims]\n",
    "T_normed = normalize_rows(T_reduced)\n",
    "print(\"shape of t_normed is {}\".format(T_normed.shape))\n",
    "show_labeled_table(T_normed, None, vocab, nrows=10, ncols=100, color_nums=None)"
   ]
  },
  {
   "cell_type": "markdown",
   "id": "hybrid-interpretation",
   "metadata": {
    "slideshow": {
     "slide_type": "fragment"
    }
   },
   "source": [
    "The SVD produces three matrices. We can think of the first one \"T\" as having rows corresponding to our vocabulary. And we can take as many columns as we want."
   ]
  },
  {
   "cell_type": "code",
   "execution_count": 14,
   "id": "equipped-designer",
   "metadata": {
    "slideshow": {
     "slide_type": "fragment"
    }
   },
   "outputs": [],
   "source": [
    "def get_word_vector(w, vocab, mat):\n",
    "    return norm_vec(mat[vocab.index(w)])\n",
    "\n",
    "def compare_word_vectors(w1, w2, vocab, mat):\n",
    "    return np.dot(get_word_vector(w1, vocab, mat), get_word_vector(w2, vocab, mat))\n",
    "\n",
    "def get_doc_vector(doc, vocab, td_mat):\n",
    "    s = np.zeros(td_mat.shape[1])\n",
    "    for w in doc:\n",
    "        if w in vocab:\n",
    "            s = s + get_word_vector(w, vocab, td_mat)\n",
    "    return s"
   ]
  },
  {
   "cell_type": "code",
   "execution_count": 15,
   "id": "unsigned-springer",
   "metadata": {},
   "outputs": [
    {
     "data": {
      "text/plain": [
       "0.35740699296626"
      ]
     },
     "execution_count": 15,
     "metadata": {},
     "output_type": "execute_result"
    }
   ],
   "source": [
    "compare_word_vectors(\"close\", \"closer\", vocab, T_reduced)"
   ]
  },
  {
   "cell_type": "code",
   "execution_count": 16,
   "id": "brave-timing",
   "metadata": {},
   "outputs": [],
   "source": [
    "def most_similar(w, vocab, mat, n=10):\n",
    "    sims = []\n",
    "    for w2 in vocab:\n",
    "        if w2 == w:\n",
    "            continue\n",
    "        sims.append([w2, compare_word_vectors(w, w2, vocab, mat), fdist[w2]])\n",
    "    return sorted(sims, key=lambda item: item[1], reverse=True)[:n]"
   ]
  },
  {
   "cell_type": "code",
   "execution_count": 17,
   "id": "static-valuation",
   "metadata": {},
   "outputs": [
    {
     "data": {
      "text/plain": [
       "[['southern', 0.4488782260403123, 294],\n",
       " ['towards', 0.33313226661084394, 91],\n",
       " ['receives', 0.3235520518768023, 67],\n",
       " ['left', 0.29159382508994247, 61],\n",
       " ['northern', 0.28488731336725465, 552],\n",
       " ['shorter', 0.23934271265987003, 57],\n",
       " ['moving', 0.20902264316028146, 75],\n",
       " ['opposite', 0.1996276302353479, 84],\n",
       " ['start', 0.1840723807729869, 54],\n",
       " ['tilted', 0.18384494623394226, 241]]"
      ]
     },
     "execution_count": 17,
     "metadata": {},
     "output_type": "execute_result"
    }
   ],
   "source": [
    "most_similar(\"hemisphere\", vocab, T_reduced)"
   ]
  },
  {
   "cell_type": "code",
   "execution_count": 18,
   "id": "center-somalia",
   "metadata": {},
   "outputs": [
    {
     "data": {
      "text/plain": [
       "[['degree', 0.3228569803519825, 78],\n",
       " ['reason', 0.30407654384690863, 66],\n",
       " ['towards', 0.27750722120792914, 91],\n",
       " ['varies', 0.2666088408787079, 103],\n",
       " ['planetary', 0.23758245195019978, 80],\n",
       " ['moving', 0.18485086806387577, 75],\n",
       " ['measure', 0.1617084708496929, 59],\n",
       " ['distribution', 0.14805305804147975, 90],\n",
       " ['summers', 0.1404002811104602, 54],\n",
       " ['uranus', 0.1359018810979812, 53]]"
      ]
     },
     "execution_count": 18,
     "metadata": {},
     "output_type": "execute_result"
    }
   ],
   "source": [
    "most_similar(\"tilt\", vocab, T_reduced)"
   ]
  },
  {
   "cell_type": "markdown",
   "id": "baking-monte",
   "metadata": {
    "slideshow": {
     "slide_type": "slide"
    }
   },
   "source": [
    "## PCA for plotting\n",
    "\n",
    "I'll show you a way of squishing any higher dimensional matrix down to a smaller number of dimensions for the purpose of making plots."
   ]
  },
  {
   "cell_type": "code",
   "execution_count": 19,
   "id": "elect-youth",
   "metadata": {},
   "outputs": [],
   "source": [
    "from sklearn.decomposition import PCA\n",
    "from sklearn.manifold import TSNE\n",
    "\n",
    "def squish_matrix(X, ncomponents=2):\n",
    "    pca = PCA(n_components=ncomponents)\n",
    "    return pca.fit_transform(X)\n",
    "\n",
    "def double_squish(X, ncomponents=2):\n",
    "    pca = PCA(n_components=50)\n",
    "    reduc = pca.fit_transform(X)\n",
    "    return TSNE(n_components=ncomponents, random_state=0, perplexity=15).fit_transform(reduc)\n",
    "\n",
    "def alt_squish(X, ncomponents=2):\n",
    "    return TSNE(n_components=ncomponents, random_state=0, perplexity=15).fit_transform(X)"
   ]
  },
  {
   "cell_type": "code",
   "execution_count": 20,
   "id": "greater-second",
   "metadata": {
    "slideshow": {
     "slide_type": "fragment"
    }
   },
   "outputs": [
    {
     "ename": "ModuleNotFoundError",
     "evalue": "No module named 'ipympl'",
     "output_type": "error",
     "traceback": [
      "\u001b[0;31m---------------------------------------------------------------------------\u001b[0m",
      "\u001b[0;31mModuleNotFoundError\u001b[0m                       Traceback (most recent call last)",
      "\u001b[0;32m/var/folders/q3/0jn_gn3j313dzgr_zr_mwtjcwc26n9/T/ipykernel_11835/3383745024.py\u001b[0m in \u001b[0;36m<module>\u001b[0;34m\u001b[0m\n\u001b[0;32m----> 1\u001b[0;31m \u001b[0mget_ipython\u001b[0m\u001b[0;34m(\u001b[0m\u001b[0;34m)\u001b[0m\u001b[0;34m.\u001b[0m\u001b[0mrun_line_magic\u001b[0m\u001b[0;34m(\u001b[0m\u001b[0;34m'matplotlib'\u001b[0m\u001b[0;34m,\u001b[0m \u001b[0;34m'widget'\u001b[0m\u001b[0;34m)\u001b[0m\u001b[0;34m\u001b[0m\u001b[0;34m\u001b[0m\u001b[0m\n\u001b[0m\u001b[1;32m      2\u001b[0m \u001b[0;32mdef\u001b[0m \u001b[0mplot_matrix\u001b[0m\u001b[0;34m(\u001b[0m\u001b[0mmat\u001b[0m\u001b[0;34m,\u001b[0m \u001b[0mlabels\u001b[0m\u001b[0;34m,\u001b[0m \u001b[0mnumber_to_plot\u001b[0m\u001b[0;34m=\u001b[0m\u001b[0;36m10\u001b[0m\u001b[0;34m,\u001b[0m \u001b[0mfigsize\u001b[0m\u001b[0;34m=\u001b[0m\u001b[0;34m(\u001b[0m\u001b[0;36m10\u001b[0m\u001b[0;34m,\u001b[0m \u001b[0;36m10\u001b[0m\u001b[0;34m)\u001b[0m\u001b[0;34m,\u001b[0m \u001b[0mc\u001b[0m\u001b[0;34m=\u001b[0m\u001b[0;34m\"red\"\u001b[0m\u001b[0;34m)\u001b[0m\u001b[0;34m:\u001b[0m\u001b[0;34m\u001b[0m\u001b[0;34m\u001b[0m\u001b[0m\n\u001b[1;32m      3\u001b[0m     \u001b[0;32mif\u001b[0m \u001b[0mmat\u001b[0m\u001b[0;34m.\u001b[0m\u001b[0mshape\u001b[0m\u001b[0;34m[\u001b[0m\u001b[0;36m1\u001b[0m\u001b[0;34m]\u001b[0m \u001b[0;34m>\u001b[0m \u001b[0;36m3\u001b[0m\u001b[0;34m:\u001b[0m\u001b[0;34m\u001b[0m\u001b[0;34m\u001b[0m\u001b[0m\n\u001b[1;32m      4\u001b[0m         \u001b[0mprint\u001b[0m\u001b[0;34m(\u001b[0m\u001b[0;34m\"too many dimensions\"\u001b[0m\u001b[0;34m)\u001b[0m\u001b[0;34m\u001b[0m\u001b[0;34m\u001b[0m\u001b[0m\n\u001b[1;32m      5\u001b[0m         \u001b[0;32mreturn\u001b[0m\u001b[0;34m\u001b[0m\u001b[0;34m\u001b[0m\u001b[0m\n",
      "\u001b[0;32m~/virtspaces/LA_intro/venv/lib/python3.7/site-packages/IPython/core/interactiveshell.py\u001b[0m in \u001b[0;36mrun_line_magic\u001b[0;34m(self, magic_name, line, _stack_depth)\u001b[0m\n\u001b[1;32m   2415\u001b[0m                 \u001b[0mkwargs\u001b[0m\u001b[0;34m[\u001b[0m\u001b[0;34m'local_ns'\u001b[0m\u001b[0;34m]\u001b[0m \u001b[0;34m=\u001b[0m \u001b[0mself\u001b[0m\u001b[0;34m.\u001b[0m\u001b[0mget_local_scope\u001b[0m\u001b[0;34m(\u001b[0m\u001b[0mstack_depth\u001b[0m\u001b[0;34m)\u001b[0m\u001b[0;34m\u001b[0m\u001b[0;34m\u001b[0m\u001b[0m\n\u001b[1;32m   2416\u001b[0m             \u001b[0;32mwith\u001b[0m \u001b[0mself\u001b[0m\u001b[0;34m.\u001b[0m\u001b[0mbuiltin_trap\u001b[0m\u001b[0;34m:\u001b[0m\u001b[0;34m\u001b[0m\u001b[0;34m\u001b[0m\u001b[0m\n\u001b[0;32m-> 2417\u001b[0;31m                 \u001b[0mresult\u001b[0m \u001b[0;34m=\u001b[0m \u001b[0mfn\u001b[0m\u001b[0;34m(\u001b[0m\u001b[0;34m*\u001b[0m\u001b[0margs\u001b[0m\u001b[0;34m,\u001b[0m \u001b[0;34m**\u001b[0m\u001b[0mkwargs\u001b[0m\u001b[0;34m)\u001b[0m\u001b[0;34m\u001b[0m\u001b[0;34m\u001b[0m\u001b[0m\n\u001b[0m\u001b[1;32m   2418\u001b[0m             \u001b[0;32mreturn\u001b[0m \u001b[0mresult\u001b[0m\u001b[0;34m\u001b[0m\u001b[0;34m\u001b[0m\u001b[0m\n\u001b[1;32m   2419\u001b[0m \u001b[0;34m\u001b[0m\u001b[0m\n",
      "\u001b[0;32m~/virtspaces/LA_intro/venv/lib/python3.7/site-packages/decorator.py\u001b[0m in \u001b[0;36mfun\u001b[0;34m(*args, **kw)\u001b[0m\n\u001b[1;32m    230\u001b[0m             \u001b[0;32mif\u001b[0m \u001b[0;32mnot\u001b[0m \u001b[0mkwsyntax\u001b[0m\u001b[0;34m:\u001b[0m\u001b[0;34m\u001b[0m\u001b[0;34m\u001b[0m\u001b[0m\n\u001b[1;32m    231\u001b[0m                 \u001b[0margs\u001b[0m\u001b[0;34m,\u001b[0m \u001b[0mkw\u001b[0m \u001b[0;34m=\u001b[0m \u001b[0mfix\u001b[0m\u001b[0;34m(\u001b[0m\u001b[0margs\u001b[0m\u001b[0;34m,\u001b[0m \u001b[0mkw\u001b[0m\u001b[0;34m,\u001b[0m \u001b[0msig\u001b[0m\u001b[0;34m)\u001b[0m\u001b[0;34m\u001b[0m\u001b[0;34m\u001b[0m\u001b[0m\n\u001b[0;32m--> 232\u001b[0;31m             \u001b[0;32mreturn\u001b[0m \u001b[0mcaller\u001b[0m\u001b[0;34m(\u001b[0m\u001b[0mfunc\u001b[0m\u001b[0;34m,\u001b[0m \u001b[0;34m*\u001b[0m\u001b[0;34m(\u001b[0m\u001b[0mextras\u001b[0m \u001b[0;34m+\u001b[0m \u001b[0margs\u001b[0m\u001b[0;34m)\u001b[0m\u001b[0;34m,\u001b[0m \u001b[0;34m**\u001b[0m\u001b[0mkw\u001b[0m\u001b[0;34m)\u001b[0m\u001b[0;34m\u001b[0m\u001b[0;34m\u001b[0m\u001b[0m\n\u001b[0m\u001b[1;32m    233\u001b[0m     \u001b[0mfun\u001b[0m\u001b[0;34m.\u001b[0m\u001b[0m__name__\u001b[0m \u001b[0;34m=\u001b[0m \u001b[0mfunc\u001b[0m\u001b[0;34m.\u001b[0m\u001b[0m__name__\u001b[0m\u001b[0;34m\u001b[0m\u001b[0;34m\u001b[0m\u001b[0m\n\u001b[1;32m    234\u001b[0m     \u001b[0mfun\u001b[0m\u001b[0;34m.\u001b[0m\u001b[0m__doc__\u001b[0m \u001b[0;34m=\u001b[0m \u001b[0mfunc\u001b[0m\u001b[0;34m.\u001b[0m\u001b[0m__doc__\u001b[0m\u001b[0;34m\u001b[0m\u001b[0;34m\u001b[0m\u001b[0m\n",
      "\u001b[0;32m~/virtspaces/LA_intro/venv/lib/python3.7/site-packages/IPython/core/magic.py\u001b[0m in \u001b[0;36m<lambda>\u001b[0;34m(f, *a, **k)\u001b[0m\n\u001b[1;32m    185\u001b[0m     \u001b[0;31m# but it's overkill for just that one bit of state.\u001b[0m\u001b[0;34m\u001b[0m\u001b[0;34m\u001b[0m\u001b[0;34m\u001b[0m\u001b[0m\n\u001b[1;32m    186\u001b[0m     \u001b[0;32mdef\u001b[0m \u001b[0mmagic_deco\u001b[0m\u001b[0;34m(\u001b[0m\u001b[0marg\u001b[0m\u001b[0;34m)\u001b[0m\u001b[0;34m:\u001b[0m\u001b[0;34m\u001b[0m\u001b[0;34m\u001b[0m\u001b[0m\n\u001b[0;32m--> 187\u001b[0;31m         \u001b[0mcall\u001b[0m \u001b[0;34m=\u001b[0m \u001b[0;32mlambda\u001b[0m \u001b[0mf\u001b[0m\u001b[0;34m,\u001b[0m \u001b[0;34m*\u001b[0m\u001b[0ma\u001b[0m\u001b[0;34m,\u001b[0m \u001b[0;34m**\u001b[0m\u001b[0mk\u001b[0m\u001b[0;34m:\u001b[0m \u001b[0mf\u001b[0m\u001b[0;34m(\u001b[0m\u001b[0;34m*\u001b[0m\u001b[0ma\u001b[0m\u001b[0;34m,\u001b[0m \u001b[0;34m**\u001b[0m\u001b[0mk\u001b[0m\u001b[0;34m)\u001b[0m\u001b[0;34m\u001b[0m\u001b[0;34m\u001b[0m\u001b[0m\n\u001b[0m\u001b[1;32m    188\u001b[0m \u001b[0;34m\u001b[0m\u001b[0m\n\u001b[1;32m    189\u001b[0m         \u001b[0;32mif\u001b[0m \u001b[0mcallable\u001b[0m\u001b[0;34m(\u001b[0m\u001b[0marg\u001b[0m\u001b[0;34m)\u001b[0m\u001b[0;34m:\u001b[0m\u001b[0;34m\u001b[0m\u001b[0;34m\u001b[0m\u001b[0m\n",
      "\u001b[0;32m~/virtspaces/LA_intro/venv/lib/python3.7/site-packages/IPython/core/magics/pylab.py\u001b[0m in \u001b[0;36mmatplotlib\u001b[0;34m(self, line)\u001b[0m\n\u001b[1;32m     97\u001b[0m             \u001b[0mprint\u001b[0m\u001b[0;34m(\u001b[0m\u001b[0;34m\"Available matplotlib backends: %s\"\u001b[0m \u001b[0;34m%\u001b[0m \u001b[0mbackends_list\u001b[0m\u001b[0;34m)\u001b[0m\u001b[0;34m\u001b[0m\u001b[0;34m\u001b[0m\u001b[0m\n\u001b[1;32m     98\u001b[0m         \u001b[0;32melse\u001b[0m\u001b[0;34m:\u001b[0m\u001b[0;34m\u001b[0m\u001b[0;34m\u001b[0m\u001b[0m\n\u001b[0;32m---> 99\u001b[0;31m             \u001b[0mgui\u001b[0m\u001b[0;34m,\u001b[0m \u001b[0mbackend\u001b[0m \u001b[0;34m=\u001b[0m \u001b[0mself\u001b[0m\u001b[0;34m.\u001b[0m\u001b[0mshell\u001b[0m\u001b[0;34m.\u001b[0m\u001b[0menable_matplotlib\u001b[0m\u001b[0;34m(\u001b[0m\u001b[0margs\u001b[0m\u001b[0;34m.\u001b[0m\u001b[0mgui\u001b[0m\u001b[0;34m.\u001b[0m\u001b[0mlower\u001b[0m\u001b[0;34m(\u001b[0m\u001b[0;34m)\u001b[0m \u001b[0;32mif\u001b[0m \u001b[0misinstance\u001b[0m\u001b[0;34m(\u001b[0m\u001b[0margs\u001b[0m\u001b[0;34m.\u001b[0m\u001b[0mgui\u001b[0m\u001b[0;34m,\u001b[0m \u001b[0mstr\u001b[0m\u001b[0;34m)\u001b[0m \u001b[0;32melse\u001b[0m \u001b[0margs\u001b[0m\u001b[0;34m.\u001b[0m\u001b[0mgui\u001b[0m\u001b[0;34m)\u001b[0m\u001b[0;34m\u001b[0m\u001b[0;34m\u001b[0m\u001b[0m\n\u001b[0m\u001b[1;32m    100\u001b[0m             \u001b[0mself\u001b[0m\u001b[0;34m.\u001b[0m\u001b[0m_show_matplotlib_backend\u001b[0m\u001b[0;34m(\u001b[0m\u001b[0margs\u001b[0m\u001b[0;34m.\u001b[0m\u001b[0mgui\u001b[0m\u001b[0;34m,\u001b[0m \u001b[0mbackend\u001b[0m\u001b[0;34m)\u001b[0m\u001b[0;34m\u001b[0m\u001b[0;34m\u001b[0m\u001b[0m\n\u001b[1;32m    101\u001b[0m \u001b[0;34m\u001b[0m\u001b[0m\n",
      "\u001b[0;32m~/virtspaces/LA_intro/venv/lib/python3.7/site-packages/IPython/core/interactiveshell.py\u001b[0m in \u001b[0;36menable_matplotlib\u001b[0;34m(self, gui)\u001b[0m\n\u001b[1;32m   3639\u001b[0m                 \u001b[0mgui\u001b[0m\u001b[0;34m,\u001b[0m \u001b[0mbackend\u001b[0m \u001b[0;34m=\u001b[0m \u001b[0mpt\u001b[0m\u001b[0;34m.\u001b[0m\u001b[0mfind_gui_and_backend\u001b[0m\u001b[0;34m(\u001b[0m\u001b[0mself\u001b[0m\u001b[0;34m.\u001b[0m\u001b[0mpylab_gui_select\u001b[0m\u001b[0;34m)\u001b[0m\u001b[0;34m\u001b[0m\u001b[0;34m\u001b[0m\u001b[0m\n\u001b[1;32m   3640\u001b[0m \u001b[0;34m\u001b[0m\u001b[0m\n\u001b[0;32m-> 3641\u001b[0;31m         \u001b[0mpt\u001b[0m\u001b[0;34m.\u001b[0m\u001b[0mactivate_matplotlib\u001b[0m\u001b[0;34m(\u001b[0m\u001b[0mbackend\u001b[0m\u001b[0;34m)\u001b[0m\u001b[0;34m\u001b[0m\u001b[0;34m\u001b[0m\u001b[0m\n\u001b[0m\u001b[1;32m   3642\u001b[0m         \u001b[0mconfigure_inline_support\u001b[0m\u001b[0;34m(\u001b[0m\u001b[0mself\u001b[0m\u001b[0;34m,\u001b[0m \u001b[0mbackend\u001b[0m\u001b[0;34m)\u001b[0m\u001b[0;34m\u001b[0m\u001b[0;34m\u001b[0m\u001b[0m\n\u001b[1;32m   3643\u001b[0m \u001b[0;34m\u001b[0m\u001b[0m\n",
      "\u001b[0;32m~/virtspaces/LA_intro/venv/lib/python3.7/site-packages/IPython/core/pylabtools.py\u001b[0m in \u001b[0;36mactivate_matplotlib\u001b[0;34m(backend)\u001b[0m\n\u001b[1;32m    357\u001b[0m     \u001b[0;32mfrom\u001b[0m \u001b[0mmatplotlib\u001b[0m \u001b[0;32mimport\u001b[0m \u001b[0mpyplot\u001b[0m \u001b[0;32mas\u001b[0m \u001b[0mplt\u001b[0m\u001b[0;34m\u001b[0m\u001b[0;34m\u001b[0m\u001b[0m\n\u001b[1;32m    358\u001b[0m \u001b[0;34m\u001b[0m\u001b[0m\n\u001b[0;32m--> 359\u001b[0;31m     \u001b[0mplt\u001b[0m\u001b[0;34m.\u001b[0m\u001b[0mswitch_backend\u001b[0m\u001b[0;34m(\u001b[0m\u001b[0mbackend\u001b[0m\u001b[0;34m)\u001b[0m\u001b[0;34m\u001b[0m\u001b[0;34m\u001b[0m\u001b[0m\n\u001b[0m\u001b[1;32m    360\u001b[0m \u001b[0;34m\u001b[0m\u001b[0m\n\u001b[1;32m    361\u001b[0m     \u001b[0mplt\u001b[0m\u001b[0;34m.\u001b[0m\u001b[0mshow\u001b[0m\u001b[0;34m.\u001b[0m\u001b[0m_needmain\u001b[0m \u001b[0;34m=\u001b[0m \u001b[0;32mFalse\u001b[0m\u001b[0;34m\u001b[0m\u001b[0;34m\u001b[0m\u001b[0m\n",
      "\u001b[0;32m~/virtspaces/LA_intro/venv/lib/python3.7/site-packages/matplotlib/pyplot.py\u001b[0m in \u001b[0;36mswitch_backend\u001b[0;34m(newbackend)\u001b[0m\n\u001b[1;32m    286\u001b[0m     \u001b[0mbackend_name\u001b[0m \u001b[0;34m=\u001b[0m \u001b[0mcbook\u001b[0m\u001b[0;34m.\u001b[0m\u001b[0m_backend_module_name\u001b[0m\u001b[0;34m(\u001b[0m\u001b[0mnewbackend\u001b[0m\u001b[0;34m)\u001b[0m\u001b[0;34m\u001b[0m\u001b[0;34m\u001b[0m\u001b[0m\n\u001b[1;32m    287\u001b[0m \u001b[0;34m\u001b[0m\u001b[0m\n\u001b[0;32m--> 288\u001b[0;31m     \u001b[0;32mclass\u001b[0m \u001b[0mbackend_mod\u001b[0m\u001b[0;34m(\u001b[0m\u001b[0mmatplotlib\u001b[0m\u001b[0;34m.\u001b[0m\u001b[0mbackend_bases\u001b[0m\u001b[0;34m.\u001b[0m\u001b[0m_Backend\u001b[0m\u001b[0;34m)\u001b[0m\u001b[0;34m:\u001b[0m\u001b[0;34m\u001b[0m\u001b[0;34m\u001b[0m\u001b[0m\n\u001b[0m\u001b[1;32m    289\u001b[0m         \u001b[0mlocals\u001b[0m\u001b[0;34m(\u001b[0m\u001b[0;34m)\u001b[0m\u001b[0;34m.\u001b[0m\u001b[0mupdate\u001b[0m\u001b[0;34m(\u001b[0m\u001b[0mvars\u001b[0m\u001b[0;34m(\u001b[0m\u001b[0mimportlib\u001b[0m\u001b[0;34m.\u001b[0m\u001b[0mimport_module\u001b[0m\u001b[0;34m(\u001b[0m\u001b[0mbackend_name\u001b[0m\u001b[0;34m)\u001b[0m\u001b[0;34m)\u001b[0m\u001b[0;34m)\u001b[0m\u001b[0;34m\u001b[0m\u001b[0;34m\u001b[0m\u001b[0m\n\u001b[1;32m    290\u001b[0m \u001b[0;34m\u001b[0m\u001b[0m\n",
      "\u001b[0;32m~/virtspaces/LA_intro/venv/lib/python3.7/site-packages/matplotlib/pyplot.py\u001b[0m in \u001b[0;36mbackend_mod\u001b[0;34m()\u001b[0m\n\u001b[1;32m    287\u001b[0m \u001b[0;34m\u001b[0m\u001b[0m\n\u001b[1;32m    288\u001b[0m     \u001b[0;32mclass\u001b[0m \u001b[0mbackend_mod\u001b[0m\u001b[0;34m(\u001b[0m\u001b[0mmatplotlib\u001b[0m\u001b[0;34m.\u001b[0m\u001b[0mbackend_bases\u001b[0m\u001b[0;34m.\u001b[0m\u001b[0m_Backend\u001b[0m\u001b[0;34m)\u001b[0m\u001b[0;34m:\u001b[0m\u001b[0;34m\u001b[0m\u001b[0;34m\u001b[0m\u001b[0m\n\u001b[0;32m--> 289\u001b[0;31m         \u001b[0mlocals\u001b[0m\u001b[0;34m(\u001b[0m\u001b[0;34m)\u001b[0m\u001b[0;34m.\u001b[0m\u001b[0mupdate\u001b[0m\u001b[0;34m(\u001b[0m\u001b[0mvars\u001b[0m\u001b[0;34m(\u001b[0m\u001b[0mimportlib\u001b[0m\u001b[0;34m.\u001b[0m\u001b[0mimport_module\u001b[0m\u001b[0;34m(\u001b[0m\u001b[0mbackend_name\u001b[0m\u001b[0;34m)\u001b[0m\u001b[0;34m)\u001b[0m\u001b[0;34m)\u001b[0m\u001b[0;34m\u001b[0m\u001b[0;34m\u001b[0m\u001b[0m\n\u001b[0m\u001b[1;32m    290\u001b[0m \u001b[0;34m\u001b[0m\u001b[0m\n\u001b[1;32m    291\u001b[0m     \u001b[0mrequired_framework\u001b[0m \u001b[0;34m=\u001b[0m \u001b[0m_get_required_interactive_framework\u001b[0m\u001b[0;34m(\u001b[0m\u001b[0mbackend_mod\u001b[0m\u001b[0;34m)\u001b[0m\u001b[0;34m\u001b[0m\u001b[0;34m\u001b[0m\u001b[0m\n",
      "\u001b[0;32m/usr/local/opt/python/Frameworks/Python.framework/Versions/3.7/lib/python3.7/importlib/__init__.py\u001b[0m in \u001b[0;36mimport_module\u001b[0;34m(name, package)\u001b[0m\n\u001b[1;32m    125\u001b[0m                 \u001b[0;32mbreak\u001b[0m\u001b[0;34m\u001b[0m\u001b[0;34m\u001b[0m\u001b[0m\n\u001b[1;32m    126\u001b[0m             \u001b[0mlevel\u001b[0m \u001b[0;34m+=\u001b[0m \u001b[0;36m1\u001b[0m\u001b[0;34m\u001b[0m\u001b[0;34m\u001b[0m\u001b[0m\n\u001b[0;32m--> 127\u001b[0;31m     \u001b[0;32mreturn\u001b[0m \u001b[0m_bootstrap\u001b[0m\u001b[0;34m.\u001b[0m\u001b[0m_gcd_import\u001b[0m\u001b[0;34m(\u001b[0m\u001b[0mname\u001b[0m\u001b[0;34m[\u001b[0m\u001b[0mlevel\u001b[0m\u001b[0;34m:\u001b[0m\u001b[0;34m]\u001b[0m\u001b[0;34m,\u001b[0m \u001b[0mpackage\u001b[0m\u001b[0;34m,\u001b[0m \u001b[0mlevel\u001b[0m\u001b[0;34m)\u001b[0m\u001b[0;34m\u001b[0m\u001b[0;34m\u001b[0m\u001b[0m\n\u001b[0m\u001b[1;32m    128\u001b[0m \u001b[0;34m\u001b[0m\u001b[0m\n\u001b[1;32m    129\u001b[0m \u001b[0;34m\u001b[0m\u001b[0m\n",
      "\u001b[0;32m/usr/local/opt/python/Frameworks/Python.framework/Versions/3.7/lib/python3.7/importlib/_bootstrap.py\u001b[0m in \u001b[0;36m_gcd_import\u001b[0;34m(name, package, level)\u001b[0m\n",
      "\u001b[0;32m/usr/local/opt/python/Frameworks/Python.framework/Versions/3.7/lib/python3.7/importlib/_bootstrap.py\u001b[0m in \u001b[0;36m_find_and_load\u001b[0;34m(name, import_)\u001b[0m\n",
      "\u001b[0;32m/usr/local/opt/python/Frameworks/Python.framework/Versions/3.7/lib/python3.7/importlib/_bootstrap.py\u001b[0m in \u001b[0;36m_find_and_load_unlocked\u001b[0;34m(name, import_)\u001b[0m\n",
      "\u001b[0;32m/usr/local/opt/python/Frameworks/Python.framework/Versions/3.7/lib/python3.7/importlib/_bootstrap.py\u001b[0m in \u001b[0;36m_call_with_frames_removed\u001b[0;34m(f, *args, **kwds)\u001b[0m\n",
      "\u001b[0;32m/usr/local/opt/python/Frameworks/Python.framework/Versions/3.7/lib/python3.7/importlib/_bootstrap.py\u001b[0m in \u001b[0;36m_gcd_import\u001b[0;34m(name, package, level)\u001b[0m\n",
      "\u001b[0;32m/usr/local/opt/python/Frameworks/Python.framework/Versions/3.7/lib/python3.7/importlib/_bootstrap.py\u001b[0m in \u001b[0;36m_find_and_load\u001b[0;34m(name, import_)\u001b[0m\n",
      "\u001b[0;32m/usr/local/opt/python/Frameworks/Python.framework/Versions/3.7/lib/python3.7/importlib/_bootstrap.py\u001b[0m in \u001b[0;36m_find_and_load_unlocked\u001b[0;34m(name, import_)\u001b[0m\n",
      "\u001b[0;31mModuleNotFoundError\u001b[0m: No module named 'ipympl'"
     ]
    }
   ],
   "source": [
    "%matplotlib widget\n",
    "def plot_matrix(mat, labels, number_to_plot=10, figsize=(10, 10), c=\"red\"):\n",
    "    if mat.shape[1] > 3:\n",
    "        print(\"too many dimensions\")\n",
    "        return\n",
    "    if number_to_plot > mat.shape[0]:\n",
    "        number_to_plot = mat.shape[0]\n",
    "    fig=plt.figure(figsize=figsize, dpi= 80, facecolor='w', edgecolor='k')\n",
    "    if mat.shape[1] == 3:\n",
    "        ax = fig.add_subplot(111, projection='3d')\n",
    "        ax.scatter(mat[:, 0][:number_to_plot], mat[:, 1][:number_to_plot], mat[:, 2][:number_to_plot], c=c)\n",
    "        for i in range(number_to_plot):\n",
    "            ax.text(mat[i, 0], mat[i, 1], mat[i, 2], labels[i])\n",
    "\n",
    "    else:\n",
    "        plt.scatter(mat[:, 0][:number_to_plot], mat[:, 1][:number_to_plot], c=c)\n",
    "        for i in range(number_to_plot):\n",
    "            plt.annotate(labels[i], mat[i])"
   ]
  },
  {
   "cell_type": "code",
   "execution_count": null,
   "id": "reliable-engagement",
   "metadata": {},
   "outputs": [],
   "source": [
    "sm = squish_matrix(T_normed, 3)\n",
    "plot_matrix(sm, vocab, 10, figsize=(10, 10))"
   ]
  },
  {
   "cell_type": "code",
   "execution_count": null,
   "id": "seeing-guyana",
   "metadata": {
    "scrolled": true,
    "slideshow": {
     "slide_type": "subslide"
    },
    "tags": []
   },
   "outputs": [],
   "source": [
    "sm = squish_matrix(T_normed, 3)\n",
    "plot_matrix(sm, vocab, 10, figsize=(10, 10))"
   ]
  },
  {
   "cell_type": "markdown",
   "id": "joined-tomato",
   "metadata": {
    "slideshow": {
     "slide_type": "subslide"
    }
   },
   "source": [
    "Let's instead plot a few selected words"
   ]
  },
  {
   "cell_type": "code",
   "execution_count": null,
   "id": "moderate-bench",
   "metadata": {},
   "outputs": [],
   "source": [
    "selected_words = [\"tilt\", \"hemisphere\", \"northern\", \"southern\", \"side\", \"day\", \"night\", \"moon\", \"spin\", \"closer\", \"close\", \"near\", \"far\", \"farther\"]\n",
    "folded_vocab_list = []\n",
    "found_vocab = []\n",
    "for w in selected_words:\n",
    "    if w not in vocab:\n",
    "        continue\n",
    "    found_vocab.append(w)\n",
    "    v = get_word_vector(w, vocab, T_normed)\n",
    "    # v = sm[vocab.index(w)]\n",
    "    folded_vocab_list.append(v)\n",
    "folded_vocab_matrix = np.array(folded_vocab_list)"
   ]
  },
  {
   "cell_type": "code",
   "execution_count": null,
   "id": "seasonal-letter",
   "metadata": {},
   "outputs": [],
   "source": [
    "show_labeled_table(folded_vocab_matrix, None, found_vocab, nrows=25, color_nums=None)"
   ]
  },
  {
   "cell_type": "code",
   "execution_count": null,
   "id": "particular-density",
   "metadata": {},
   "outputs": [],
   "source": [
    "sm = squish_matrix(folded_vocab_matrix, 2)\n",
    "plot_matrix(sm, found_vocab, 10, figsize=(5, 5))"
   ]
  },
  {
   "cell_type": "code",
   "execution_count": null,
   "id": "stock-rings",
   "metadata": {},
   "outputs": [],
   "source": [
    "import copy, random\n",
    "def plot_similar(the_word, vocab, mat, dims=2, n=10):\n",
    "    similar_words = [w[0] for w in most_similar(the_word, vocab, mat)]\n",
    "    folded_vocab_list = [mat[vocab.index(the_word)]]\n",
    "    found_vocab = [the_word]\n",
    "    colors = [\"red\"]\n",
    "    for w in similar_words[:n]:\n",
    "        if w not in vocab:\n",
    "            continue\n",
    "        found_vocab.append(w)\n",
    "        v = mat[vocab.index(w)]\n",
    "        folded_vocab_list.append(v)\n",
    "        colors.append(\"blue\")\n",
    "    new_vocab = copy.deepcopy(vocab)\n",
    "    random.shuffle(new_vocab)\n",
    "    for w in new_vocab[:n]:\n",
    "        if w not in vocab:\n",
    "            continue\n",
    "        found_vocab.append(w)\n",
    "        v = mat[vocab.index(w)]\n",
    "        folded_vocab_list.append(v)\n",
    "        colors.append(\"green\")\n",
    "    folded_vocab_matrix = np.array(folded_vocab_list)\n",
    "    squished_matrix = alt_squish(folded_vocab_matrix, dims)\n",
    "    plot_matrix(squished_matrix, found_vocab, 50, c=colors)"
   ]
  },
  {
   "cell_type": "code",
   "execution_count": null,
   "id": "happy-leave",
   "metadata": {},
   "outputs": [],
   "source": [
    "%matplotlib notebook\n",
    "plot_similar(\"hemisphere\", vocab, T_normed, 2)"
   ]
  },
  {
   "cell_type": "code",
   "execution_count": null,
   "id": "monetary-examination",
   "metadata": {},
   "outputs": [],
   "source": []
  }
 ],
 "metadata": {
  "celltoolbar": "Slideshow",
  "kernelspec": {
   "display_name": "Python 3 (ipykernel)",
   "language": "python",
   "name": "python3"
  },
  "language_info": {
   "codemirror_mode": {
    "name": "ipython",
    "version": 3
   },
   "file_extension": ".py",
   "mimetype": "text/x-python",
   "name": "python",
   "nbconvert_exporter": "python",
   "pygments_lexer": "ipython3",
   "version": "3.7.7"
  },
  "toc": {
   "base_numbering": 1,
   "nav_menu": {},
   "number_sections": true,
   "sideBar": false,
   "skip_h1_title": false,
   "title_cell": "Table of Contents",
   "title_sidebar": "Contents",
   "toc_cell": false,
   "toc_position": {
    "height": "calc(100% - 180px)",
    "left": "10px",
    "top": "150px",
    "width": "316.59375px"
   },
   "toc_section_display": true,
   "toc_window_display": false
  }
 },
 "nbformat": 4,
 "nbformat_minor": 5
}
