{
 "cells": [
  {
   "cell_type": "markdown",
   "metadata": {
    "slideshow": {
     "slide_type": "slide"
    }
   },
   "source": [
    "We'll often want this magical line at the start of our notebooks.\n",
    "It makes plots show up right in the notebook. We might as well get used to it."
   ]
  },
  {
   "cell_type": "code",
   "execution_count": null,
   "metadata": {
    "slideshow": {
     "slide_type": "-"
    }
   },
   "outputs": [],
   "source": [
    "%matplotlib inline"
   ]
  },
  {
   "cell_type": "markdown",
   "metadata": {
    "slideshow": {
     "slide_type": "slide"
    }
   },
   "source": [
    "# Some text basics"
   ]
  },
  {
   "cell_type": "markdown",
   "metadata": {
    "slideshow": {
     "slide_type": "-"
    }
   },
   "source": [
    "These lines read a text file. The first line creates a file object that points to the file. The second line reads in the contents of that file and assigns it to a variable named `genesis_raw`."
   ]
  },
  {
   "cell_type": "code",
   "execution_count": null,
   "metadata": {
    "slideshow": {
     "slide_type": "-"
    }
   },
   "outputs": [],
   "source": [
    "myfile = open('corpora/genesis.txt')\n",
    "genesis_raw = myfile.read()"
   ]
  },
  {
   "cell_type": "markdown",
   "metadata": {
    "slideshow": {
     "slide_type": "fragment"
    },
    "tags": []
   },
   "source": [
    "`genesis_raw` will be a string with every character in genesis. \n",
    "Let's see how many characters it is:"
   ]
  },
  {
   "cell_type": "code",
   "execution_count": null,
   "metadata": {},
   "outputs": [],
   "source": [
    "len(genesis_raw)"
   ]
  },
  {
   "cell_type": "markdown",
   "metadata": {
    "slideshow": {
     "slide_type": "subslide"
    }
   },
   "source": [
    "We can display the first 100 characters:"
   ]
  },
  {
   "cell_type": "code",
   "execution_count": null,
   "metadata": {},
   "outputs": [],
   "source": [
    "genesis_raw[:100]"
   ]
  },
  {
   "cell_type": "code",
   "execution_count": null,
   "metadata": {},
   "outputs": [],
   "source": [
    "import nltk\n",
    "\n",
    "genesis_tokenized = nltk.word_tokenize(genesis_raw)"
   ]
  },
  {
   "cell_type": "code",
   "execution_count": null,
   "metadata": {},
   "outputs": [],
   "source": [
    "len(genesis_tokenized)"
   ]
  },
  {
   "cell_type": "code",
   "execution_count": null,
   "metadata": {},
   "outputs": [],
   "source": [
    "genesis_tokenized[:10]"
   ]
  },
  {
   "cell_type": "code",
   "execution_count": null,
   "metadata": {},
   "outputs": [],
   "source": [
    "fdist = nltk.FreqDist(genesis_tokenized)\n",
    "fdist.most_common(25)"
   ]
  },
  {
   "cell_type": "code",
   "execution_count": null,
   "metadata": {},
   "outputs": [],
   "source": [
    "fdist.plot(25)"
   ]
  },
  {
   "cell_type": "markdown",
   "metadata": {
    "slideshow": {
     "slide_type": "slide"
    }
   },
   "source": [
    "### Dispersion plot with nltk\n",
    "\n",
    "Another library that overlap with Textblob is [nltk](nltk.org). It does some things that TextBlob doesn't do, but is just a tad more complicated. Here we'll use it to make a dispersion plot. and a concordance."
   ]
  },
  {
   "cell_type": "code",
   "execution_count": null,
   "metadata": {},
   "outputs": [],
   "source": [
    "from nltk.draw import dispersion_plot\n",
    "dispersion_plot(genesis_tokenized, [\"Adam\", \"Noah\"])"
   ]
  },
  {
   "cell_type": "code",
   "execution_count": null,
   "metadata": {
    "slideshow": {
     "slide_type": "subslide"
    }
   },
   "outputs": [],
   "source": [
    "from nltk.text import ConcordanceIndex\n",
    "ci = ConcordanceIndex(genesis_tokenized)\n",
    "ci.print_concordance(\"Adam\", width=80, lines=25)"
   ]
  },
  {
   "cell_type": "markdown",
   "id": "special-england",
   "metadata": {},
   "source": [
    "## Working with a stop list\n",
    "\n",
    "Often we will want to remove some common but not so helpful words from a corpus. These common-but-not-helpful words are called \"stop lists\". I put a some in the \"lists\" folder. \n",
    "\n",
    "Let's read one in and split it into a list."
   ]
  },
  {
   "cell_type": "code",
   "execution_count": null,
   "id": "empirical-climb",
   "metadata": {},
   "outputs": [],
   "source": [
    "f = open(\"lists/stop-words_english_5_en.txt\")\n",
    "stop_list = f.read().split(\"\\n\")"
   ]
  },
  {
   "cell_type": "markdown",
   "id": "unlikely-sheet",
   "metadata": {},
   "source": [
    "Now let's remove these words from our list of common words"
   ]
  },
  {
   "cell_type": "code",
   "execution_count": null,
   "id": "korean-norfolk",
   "metadata": {},
   "outputs": [],
   "source": [
    "words_pruned = []\n",
    "for w in genesis_tokenized:\n",
    "    if w.lower() not in stop_list:\n",
    "        words_pruned.append(w.lower())"
   ]
  },
  {
   "cell_type": "code",
   "execution_count": null,
   "id": "polar-tribe",
   "metadata": {},
   "outputs": [],
   "source": [
    "fdist_pruned = nltk.FreqDist(words_pruned)\n",
    "fdist_pruned.most_common(25)"
   ]
  },
  {
   "cell_type": "markdown",
   "id": "interpreted-contract",
   "metadata": {},
   "source": [
    "Let's get rid of some additional stuff."
   ]
  },
  {
   "cell_type": "code",
   "execution_count": null,
   "id": "pleasant-webster",
   "metadata": {},
   "outputs": [],
   "source": [
    "stop_list += list('!\"#$%&\\'()*+,-./:;<=>?@[\\\\]^_`{|}~’')\n",
    "stop_list += list(\"abcdefghijklmnopqrstuvwxyz0123456789\")\n",
    "stop_list += [\"''\", \"``\", \"--\"]"
   ]
  },
  {
   "cell_type": "code",
   "execution_count": null,
   "id": "potential-coordination",
   "metadata": {},
   "outputs": [],
   "source": [
    "words_pruned = []\n",
    "for w in genesis_tokenized:\n",
    "    if w.lower() not in stop_list:\n",
    "        words_pruned.append(w.lower())"
   ]
  },
  {
   "cell_type": "code",
   "execution_count": null,
   "id": "artificial-friday",
   "metadata": {},
   "outputs": [],
   "source": [
    "fdist_pruned = nltk.FreqDist(words_pruned)\n",
    "fdist_pruned.most_common(25)"
   ]
  },
  {
   "cell_type": "code",
   "execution_count": null,
   "id": "statewide-gallery",
   "metadata": {},
   "outputs": [],
   "source": [
    "import matplotlib.pyplot as plt\n",
    "plt.figure(figsize=(20, 10))\n",
    "fdist_pruned.plot(25)"
   ]
  }
 ],
 "metadata": {
  "celltoolbar": "Slideshow",
  "kernelspec": {
   "display_name": "Python 3 (ipykernel)",
   "language": "python",
   "name": "python3"
  },
  "language_info": {
   "codemirror_mode": {
    "name": "ipython",
    "version": 3
   },
   "file_extension": ".py",
   "mimetype": "text/x-python",
   "name": "python",
   "nbconvert_exporter": "python",
   "pygments_lexer": "ipython3",
   "version": "3.7.7"
  },
  "toc": {
   "base_numbering": 1,
   "nav_menu": {},
   "number_sections": true,
   "sideBar": true,
   "skip_h1_title": false,
   "title_cell": "Table of Contents",
   "title_sidebar": "Contents",
   "toc_cell": false,
   "toc_position": {},
   "toc_section_display": true,
   "toc_window_display": false
  }
 },
 "nbformat": 4,
 "nbformat_minor": 4
}
