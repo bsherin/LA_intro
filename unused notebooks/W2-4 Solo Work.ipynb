{
 "cells": [
  {
   "cell_type": "code",
   "execution_count": null,
   "id": "aerial-saudi",
   "metadata": {},
   "outputs": [],
   "source": [
    "%matplotlib inline\n",
    "import matplotlib\n",
    "import pandas as pd\n",
    "import nltk"
   ]
  },
  {
   "cell_type": "markdown",
   "id": "accompanied-camel",
   "metadata": {},
   "source": [
    "## Create your own wikipedia corpus\n",
    "\n",
    "Using notebook 2-3 as a model, create your own corpus that contains a selection of wikipedia pages on a topic of your chosing."
   ]
  },
  {
   "cell_type": "code",
   "execution_count": null,
   "id": "twelve-motel",
   "metadata": {},
   "outputs": [],
   "source": []
  },
  {
   "cell_type": "markdown",
   "id": "adaptive-fellowship",
   "metadata": {},
   "source": [
    "## Find collocations\n",
    "\n",
    "Again using notebook 2-3 as a model, find common collocations in your corpus."
   ]
  },
  {
   "cell_type": "code",
   "execution_count": null,
   "id": "modified-wagner",
   "metadata": {},
   "outputs": [],
   "source": []
  },
  {
   "cell_type": "markdown",
   "id": "accepting-factor",
   "metadata": {},
   "source": [
    "## Bonus task: A step on the road to being a text miner\n",
    "\n",
    "Being a text miner often means figuring out how to use powerful but poorly-documented libraries. \n",
    "\n",
    "It seems that NLTK has a bunch of built in tools for finding collocations. There's page about it [here](https://www.nltk.org/howto/collocations.html) that doesn't have much explanation, and I haven't looked at it very closely. But give it a look and see if there are any tools here that can do a better job of finding collocations in your corpus.\n",
    "\n",
    "A cursory glance tells me that they are reading in a data corpus in a different way than we did - they are using some corpora that come along with NLTK plus a special corpus loader. So you won't be able to follow them exactly."
   ]
  },
  {
   "cell_type": "code",
   "execution_count": null,
   "id": "corrected-frame",
   "metadata": {},
   "outputs": [],
   "source": []
  }
 ],
 "metadata": {
  "kernelspec": {
   "display_name": "Python 3",
   "language": "python",
   "name": "python3"
  },
  "language_info": {
   "codemirror_mode": {
    "name": "ipython",
    "version": 3
   },
   "file_extension": ".py",
   "mimetype": "text/x-python",
   "name": "python",
   "nbconvert_exporter": "python",
   "pygments_lexer": "ipython3",
   "version": "3.7.7"
  }
 },
 "nbformat": 4,
 "nbformat_minor": 5
}
