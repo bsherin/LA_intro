{
 "cells": [
  {
   "cell_type": "code",
   "execution_count": null,
   "id": "hollow-leisure",
   "metadata": {},
   "outputs": [],
   "source": [
    "%matplotlib inline\n",
    "import matplotlib\n",
    "import pandas as pd"
   ]
  },
  {
   "cell_type": "markdown",
   "id": "innovative-evanescence",
   "metadata": {},
   "source": [
    "## Working with the nltk\n",
    "\n",
    "[nltk](nltk.org) is a library that has overlapping functionality with TextBlob. In some respects it's harder to use. In some respect it's easier. But it's a bit more standard so we should probably use it."
   ]
  },
  {
   "cell_type": "code",
   "execution_count": null,
   "id": "solid-winner",
   "metadata": {},
   "outputs": [],
   "source": [
    "import nltk"
   ]
  },
  {
   "cell_type": "code",
   "execution_count": null,
   "id": "liked-serbia",
   "metadata": {},
   "outputs": [],
   "source": [
    "myfile = open('corpora/emerald_city.txt')\n",
    "genesis_raw = myfile.read()\n",
    "\n",
    "words = nltk.word_tokenize(genesis_raw)\n",
    "sentences = nltk.sent_tokenize(genesis_raw)"
   ]
  },
  {
   "cell_type": "markdown",
   "id": "protecting-handbook",
   "metadata": {},
   "source": [
    "nltk has something called a \"Frequency Distribution\" that is useful for counting things."
   ]
  },
  {
   "cell_type": "code",
   "execution_count": null,
   "id": "cardiac-terrain",
   "metadata": {},
   "outputs": [],
   "source": [
    "fdist = nltk.FreqDist(words)"
   ]
  },
  {
   "cell_type": "code",
   "execution_count": null,
   "id": "drawn-store",
   "metadata": {},
   "outputs": [],
   "source": [
    "fdist.most_common(25)"
   ]
  },
  {
   "cell_type": "code",
   "execution_count": null,
   "id": "shaped-honey",
   "metadata": {},
   "outputs": [],
   "source": [
    "fp = fdist.plot(25)"
   ]
  },
  {
   "cell_type": "markdown",
   "id": "special-england",
   "metadata": {},
   "source": [
    "## Working with a stop list\n",
    "\n",
    "Often we will want to remove some common but not so helpful words from a corpus. These common-but-not-helpful words are called \"stop lists\". I put a some in the \"lists\" folder. \n",
    "\n",
    "Let's read one in and split it into a list."
   ]
  },
  {
   "cell_type": "code",
   "execution_count": null,
   "id": "empirical-climb",
   "metadata": {},
   "outputs": [],
   "source": [
    "f = open(\"lists/stop-words_english_5_en.txt\")\n",
    "stop_list = f.read().split(\"\\n\")"
   ]
  },
  {
   "cell_type": "markdown",
   "id": "unlikely-sheet",
   "metadata": {},
   "source": [
    "Now let's remove these words from our list of common words"
   ]
  },
  {
   "cell_type": "code",
   "execution_count": null,
   "id": "korean-norfolk",
   "metadata": {},
   "outputs": [],
   "source": [
    "words_pruned = []\n",
    "for w in words:\n",
    "    if w.lower() not in stop_list:\n",
    "        words_pruned.append(w.lower())"
   ]
  },
  {
   "cell_type": "code",
   "execution_count": null,
   "id": "polar-tribe",
   "metadata": {},
   "outputs": [],
   "source": [
    "fdist_pruned = nltk.FreqDist(words_pruned)\n",
    "fdist_pruned.most_common(25)"
   ]
  },
  {
   "cell_type": "markdown",
   "id": "interpreted-contract",
   "metadata": {},
   "source": [
    "Let's get rid of some additional stuff."
   ]
  },
  {
   "cell_type": "code",
   "execution_count": null,
   "id": "pleasant-webster",
   "metadata": {},
   "outputs": [],
   "source": [
    "stop_list += list('!\"#$%&\\'()*+,-./:;<=>?@[\\\\]^_`{|}~’')\n",
    "stop_list += list(\"abcdefghijklmnopqrstuvwxyz0123456789\")"
   ]
  },
  {
   "cell_type": "code",
   "execution_count": null,
   "id": "potential-coordination",
   "metadata": {},
   "outputs": [],
   "source": [
    "words_pruned = []\n",
    "for w in words:\n",
    "    if w.lower() not in stop_list:\n",
    "        words_pruned.append(w.lower())"
   ]
  },
  {
   "cell_type": "code",
   "execution_count": null,
   "id": "artificial-friday",
   "metadata": {},
   "outputs": [],
   "source": [
    "fdist_pruned = nltk.FreqDist(words_pruned)\n",
    "fdist_pruned.most_common(25)"
   ]
  },
  {
   "cell_type": "code",
   "execution_count": null,
   "id": "adjustable-humanitarian",
   "metadata": {},
   "outputs": [],
   "source": [
    "stop_list += [\"''\", \"``\", \"--\"]"
   ]
  },
  {
   "cell_type": "code",
   "execution_count": null,
   "id": "smaller-vegetarian",
   "metadata": {},
   "outputs": [],
   "source": [
    "words_pruned = []\n",
    "for w in words:\n",
    "    if w.lower() not in stop_list:\n",
    "        words_pruned.append(w.lower())"
   ]
  },
  {
   "cell_type": "code",
   "execution_count": null,
   "id": "bottom-malta",
   "metadata": {},
   "outputs": [],
   "source": [
    "fdist_pruned = nltk.FreqDist(words_pruned)\n",
    "fdist_pruned.most_common(25)"
   ]
  },
  {
   "cell_type": "code",
   "execution_count": null,
   "id": "statewide-gallery",
   "metadata": {},
   "outputs": [],
   "source": [
    "import matplotlib.pyplot as plt\n",
    "plt.figure(figsize=(20, 10))\n",
    "fdist_pruned.plot(25)"
   ]
  },
  {
   "cell_type": "code",
   "execution_count": null,
   "id": "electoral-hearing",
   "metadata": {},
   "outputs": [],
   "source": []
  }
 ],
 "metadata": {
  "kernelspec": {
   "display_name": "Python 3",
   "language": "python",
   "name": "python3"
  },
  "language_info": {
   "codemirror_mode": {
    "name": "ipython",
    "version": 3
   },
   "file_extension": ".py",
   "mimetype": "text/x-python",
   "name": "python",
   "nbconvert_exporter": "python",
   "pygments_lexer": "ipython3",
   "version": "3.7.7"
  }
 },
 "nbformat": 4,
 "nbformat_minor": 5
}
