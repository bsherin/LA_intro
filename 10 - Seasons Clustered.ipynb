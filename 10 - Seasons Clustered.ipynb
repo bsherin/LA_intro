{
 "cells": [
  {
   "cell_type": "markdown",
   "metadata": {
    "slideshow": {
     "slide_type": "slide"
    }
   },
   "source": [
    "# Seasons Clustering"
   ]
  },
  {
   "cell_type": "code",
   "execution_count": 1,
   "metadata": {},
   "outputs": [],
   "source": [
    "import re, nltk\n",
    "import numpy as np\n",
    "import matplotlib.pyplot as plt"
   ]
  },
  {
   "cell_type": "code",
   "execution_count": 2,
   "metadata": {},
   "outputs": [],
   "source": [
    "import numpy as np\n",
    "def norm_vec(vec):\n",
    "    mag = np.dot(vec, vec)\n",
    "    if mag == 0:\n",
    "        return vec\n",
    "    else:\n",
    "        return(vec / np.sqrt(mag))\n",
    "    \n",
    "def pure_tf(tf, df, cf, N):\n",
    "    return tf\n",
    "\n",
    "def tf(tf, df, cf, N):\n",
    "    if tf == 0:\n",
    "        result = 0\n",
    "    else:\n",
    "        result = (1 + np.log(tf))\n",
    "    return result\n",
    "\n",
    "def tfidf(tf, df, cf, N):\n",
    "    if tf == 0 or df == 0:\n",
    "        result = 0\n",
    "    else:\n",
    "        result = (1 + np.log(tf)) / df\n",
    "    return result\n",
    "\n",
    "def weight_factor2(tf, df, cf, N):\n",
    "    if tf == 0:\n",
    "        result = 0\n",
    "    else:\n",
    "        result = (1 + np.log(tf))\n",
    "    return result\n",
    "\n",
    "def weighted_word(the_text, word):\n",
    "    return tf(the_text.count(word), doc_fdist[word], word_fdist[word], len(seasons_corpus.keys()))\n",
    "\n",
    "def compute_doc_vector(word_list):\n",
    "    return norm_vec([weighted_word(word_list, word) for word in vocab_list])"
   ]
  },
  {
   "cell_type": "code",
   "execution_count": 3,
   "metadata": {},
   "outputs": [],
   "source": [
    "def top_words_from_centroid(centroids, n, to_print=10, printit=True):\n",
    "    sc = list(np.argsort(centroids[n]))\n",
    "    sc.reverse()\n",
    "    result = []\n",
    "    for i in range(to_print):\n",
    "        if printit:\n",
    "            print(vocab_list[sc[i]], round(centroids[n][sc[i]], 3))\n",
    "        result.append([vocab_list[sc[i]], round(centroids[n][sc[i]], 3)])\n",
    "    return result\n",
    "\n",
    "def top_words_from_centroids(centroids, to_print=10, printit=False):\n",
    "    result = []\n",
    "    for n in range(len(centroids)):\n",
    "        if printit:\n",
    "            print(\"Cluster \", n)\n",
    "            top_words_from_centroid(centroids, n, to_print, printit=printit)\n",
    "            print(\"\\n\")\n",
    "        result.append(top_words_from_centroid(centroids, n, to_print, printit=printit))\n",
    "    return result\n",
    "        \n",
    "class ListTable(list):\n",
    "    def _repr_html_(self):\n",
    "        html = [\"<table style= 'border: 1px solid black; display:inline-block'>\"]\n",
    "        for row in self:\n",
    "            html.append(\"<tr>\")\n",
    "            for col in row:\n",
    "                html.append(\"<td align='left' style='border: .5px solid gray;'>{0}</td>\".format(col))\n",
    "            \n",
    "            html.append(\"</tr>\")\n",
    "        html.append(\"</table>\")\n",
    "        return ''.join(html)\n",
    "    \n",
    "class MultiTable(list):\n",
    "    def _repr_html_(self):\n",
    "        html = []\n",
    "        for l in self:\n",
    "            html.append(\"<table style= 'border: 1px solid black; display:inline-block; margin-right: 10px;'>\")\n",
    "            for row in l:\n",
    "                html.append(\"<tr>\")\n",
    "                for col in row:\n",
    "                    html.append(\"<td align='left' style='border: .5px solid gray;'>{0}</td>\".format(col))\n",
    "\n",
    "                html.append(\"</tr>\")\n",
    "            html.append(\"</table>\")\n",
    "        return ''.join(html)"
   ]
  },
  {
   "cell_type": "markdown",
   "metadata": {
    "slideshow": {
     "slide_type": "slide"
    }
   },
   "source": [
    "## Read in the corpus and get the vocabulary, as usual"
   ]
  },
  {
   "cell_type": "code",
   "execution_count": 4,
   "metadata": {},
   "outputs": [],
   "source": [
    "from seasons_module import load_seasons_corpus\n",
    "seasons_corpus = load_seasons_corpus()\n",
    "fnames = list(seasons_corpus.keys())\n",
    "docs = [seasons_corpus[fname][0] for fname in fnames]"
   ]
  },
  {
   "cell_type": "code",
   "execution_count": 5,
   "metadata": {},
   "outputs": [],
   "source": [
    "set_vocab = set([])\n",
    "for doc in docs:\n",
    "    set_vocab = set_vocab.union(set(doc))\n",
    "f = open(\"lists/seasons_stop_list.txt\")\n",
    "stop_list = set(f.read().split(\"\\n\"))\n",
    "pruned_vocab = set(sorted([w for w in list(set_vocab) if w not in stop_list]))"
   ]
  },
  {
   "cell_type": "code",
   "execution_count": 6,
   "metadata": {},
   "outputs": [],
   "source": [
    "import nltk\n",
    "word_fdist = nltk.FreqDist() # the corpus frequences\n",
    "doc_fdist = nltk.FreqDist()# the document frequencies\n",
    "for word in pruned_vocab:\n",
    "    word_fdist[word] = 0\n",
    "    doc_fdist[word] = 0\n",
    "    for doc in docs:\n",
    "        if word in doc:\n",
    "            doc_fdist[word] += 1\n",
    "            word_fdist[word] += doc.count(word)"
   ]
  },
  {
   "cell_type": "code",
   "execution_count": 7,
   "metadata": {},
   "outputs": [],
   "source": [
    "vocab_list = [w[0] for w in word_fdist.most_common(500)]"
   ]
  },
  {
   "cell_type": "markdown",
   "metadata": {
    "slideshow": {
     "slide_type": "subslide"
    }
   },
   "source": [
    "## Get the document vectors"
   ]
  },
  {
   "cell_type": "code",
   "execution_count": 8,
   "metadata": {},
   "outputs": [],
   "source": [
    "doc_vectors = []\n",
    "for doc in docs:\n",
    "    doc_vectors.append(compute_doc_vector(doc))"
   ]
  },
  {
   "cell_type": "markdown",
   "metadata": {},
   "source": [
    "Put vectors in a matrix to make sklean happy"
   ]
  },
  {
   "cell_type": "code",
   "execution_count": 9,
   "metadata": {},
   "outputs": [],
   "source": [
    "X = np.array(doc_vectors)"
   ]
  },
  {
   "cell_type": "code",
   "execution_count": 10,
   "metadata": {},
   "outputs": [
    {
     "data": {
      "text/plain": [
       "(54, 500)"
      ]
     },
     "execution_count": 10,
     "metadata": {},
     "output_type": "execute_result"
    }
   ],
   "source": [
    "X.shape"
   ]
  },
  {
   "cell_type": "markdown",
   "metadata": {
    "slideshow": {
     "slide_type": "subslide"
    }
   },
   "source": [
    "## Do the clustering"
   ]
  },
  {
   "cell_type": "code",
   "execution_count": 11,
   "metadata": {},
   "outputs": [],
   "source": [
    "from sklearn.cluster import AgglomerativeClustering\n",
    "clustering = AgglomerativeClustering(n_clusters=3).fit(X)"
   ]
  },
  {
   "cell_type": "markdown",
   "metadata": {
    "slideshow": {
     "slide_type": "fragment"
    }
   },
   "source": [
    "## Examine the results"
   ]
  },
  {
   "cell_type": "code",
   "execution_count": 12,
   "metadata": {},
   "outputs": [],
   "source": [
    "from sklearn.neighbors import NearestCentroid\n",
    "def get_centroids(X, labels):\n",
    "    clf = NearestCentroid()\n",
    "    clf.fit(X, labels)\n",
    "    centroids = clf.centroids_\n",
    "    return centroids\n",
    "\n",
    "centroids = get_centroids(X, clustering.labels_)"
   ]
  },
  {
   "cell_type": "code",
   "execution_count": 13,
   "metadata": {},
   "outputs": [
    {
     "data": {
      "text/html": [
       "<table style= 'border: 1px solid black; display:inline-block; margin-right: 10px;'><tr><td align='left' style='border: .5px solid gray;'>closer</td><td align='left' style='border: .5px solid gray;'>0.132</td></tr><tr><td align='left' style='border: .5px solid gray;'>axis</td><td align='left' style='border: .5px solid gray;'>0.124</td></tr><tr><td align='left' style='border: .5px solid gray;'>side</td><td align='left' style='border: .5px solid gray;'>0.106</td></tr><tr><td align='left' style='border: .5px solid gray;'>colder</td><td align='left' style='border: .5px solid gray;'>0.105</td></tr><tr><td align='left' style='border: .5px solid gray;'>time</td><td align='left' style='border: .5px solid gray;'>0.102</td></tr><tr><td align='left' style='border: .5px solid gray;'>day</td><td align='left' style='border: .5px solid gray;'>0.093</td></tr><tr><td align='left' style='border: .5px solid gray;'>farther</td><td align='left' style='border: .5px solid gray;'>0.087</td></tr><tr><td align='left' style='border: .5px solid gray;'>night</td><td align='left' style='border: .5px solid gray;'>0.083</td></tr><tr><td align='left' style='border: .5px solid gray;'>part</td><td align='left' style='border: .5px solid gray;'>0.081</td></tr><tr><td align='left' style='border: .5px solid gray;'>warmer</td><td align='left' style='border: .5px solid gray;'>0.08</td></tr></table><table style= 'border: 1px solid black; display:inline-block; margin-right: 10px;'><tr><td align='left' style='border: .5px solid gray;'>tilted</td><td align='left' style='border: .5px solid gray;'>0.326</td></tr><tr><td align='left' style='border: .5px solid gray;'>towards</td><td align='left' style='border: .5px solid gray;'>0.173</td></tr><tr><td align='left' style='border: .5px solid gray;'>side</td><td align='left' style='border: .5px solid gray;'>0.137</td></tr><tr><td align='left' style='border: .5px solid gray;'>north</td><td align='left' style='border: .5px solid gray;'>0.131</td></tr><tr><td align='left' style='border: .5px solid gray;'>day</td><td align='left' style='border: .5px solid gray;'>0.123</td></tr><tr><td align='left' style='border: .5px solid gray;'>part</td><td align='left' style='border: .5px solid gray;'>0.117</td></tr><tr><td align='left' style='border: .5px solid gray;'>facing</td><td align='left' style='border: .5px solid gray;'>0.105</td></tr><tr><td align='left' style='border: .5px solid gray;'>tilts</td><td align='left' style='border: .5px solid gray;'>0.101</td></tr><tr><td align='left' style='border: .5px solid gray;'>tilt</td><td align='left' style='border: .5px solid gray;'>0.095</td></tr><tr><td align='left' style='border: .5px solid gray;'>top</td><td align='left' style='border: .5px solid gray;'>0.093</td></tr></table><table style= 'border: 1px solid black; display:inline-block; margin-right: 10px;'><tr><td align='left' style='border: .5px solid gray;'>hemisphere</td><td align='left' style='border: .5px solid gray;'>0.402</td></tr><tr><td align='left' style='border: .5px solid gray;'>northern</td><td align='left' style='border: .5px solid gray;'>0.344</td></tr><tr><td align='left' style='border: .5px solid gray;'>southern</td><td align='left' style='border: .5px solid gray;'>0.189</td></tr><tr><td align='left' style='border: .5px solid gray;'>sunlight</td><td align='left' style='border: .5px solid gray;'>0.172</td></tr><tr><td align='left' style='border: .5px solid gray;'>equator</td><td align='left' style='border: .5px solid gray;'>0.162</td></tr><tr><td align='left' style='border: .5px solid gray;'>direct</td><td align='left' style='border: .5px solid gray;'>0.12</td></tr><tr><td align='left' style='border: .5px solid gray;'>closer</td><td align='left' style='border: .5px solid gray;'>0.117</td></tr><tr><td align='left' style='border: .5px solid gray;'>facing</td><td align='left' style='border: .5px solid gray;'>0.115</td></tr><tr><td align='left' style='border: .5px solid gray;'>axis</td><td align='left' style='border: .5px solid gray;'>0.112</td></tr><tr><td align='left' style='border: .5px solid gray;'>colder</td><td align='left' style='border: .5px solid gray;'>0.103</td></tr></table>"
      ],
      "text/plain": [
       "[[['closer', 0.132],\n",
       "  ['axis', 0.124],\n",
       "  ['side', 0.106],\n",
       "  ['colder', 0.105],\n",
       "  ['time', 0.102],\n",
       "  ['day', 0.093],\n",
       "  ['farther', 0.087],\n",
       "  ['night', 0.083],\n",
       "  ['part', 0.081],\n",
       "  ['warmer', 0.08]],\n",
       " [['tilted', 0.326],\n",
       "  ['towards', 0.173],\n",
       "  ['side', 0.137],\n",
       "  ['north', 0.131],\n",
       "  ['day', 0.123],\n",
       "  ['part', 0.117],\n",
       "  ['facing', 0.105],\n",
       "  ['tilts', 0.101],\n",
       "  ['tilt', 0.095],\n",
       "  ['top', 0.093]],\n",
       " [['hemisphere', 0.402],\n",
       "  ['northern', 0.344],\n",
       "  ['southern', 0.189],\n",
       "  ['sunlight', 0.172],\n",
       "  ['equator', 0.162],\n",
       "  ['direct', 0.12],\n",
       "  ['closer', 0.117],\n",
       "  ['facing', 0.115],\n",
       "  ['axis', 0.112],\n",
       "  ['colder', 0.103]]]"
      ]
     },
     "execution_count": 13,
     "metadata": {},
     "output_type": "execute_result"
    }
   ],
   "source": [
    "MultiTable(top_words_from_centroids(centroids))"
   ]
  },
  {
   "cell_type": "code",
   "execution_count": 14,
   "metadata": {
    "tags": []
   },
   "outputs": [
    {
     "data": {
      "text/html": [
       "<table style= 'border: 1px solid black; display:inline-block'><tr><td align='left' style='border: .5px solid gray;'>vanessapre</td><td align='left' style='border: .5px solid gray;'>0</td></tr><tr><td align='left' style='border: .5px solid gray;'>-vanessapost</td><td align='left' style='border: .5px solid gray;'>0</td></tr><tr><td align='left' style='border: .5px solid gray;'>-williampost</td><td align='left' style='border: .5px solid gray;'>0</td></tr><tr><td align='left' style='border: .5px solid gray;'>lesliepre</td><td align='left' style='border: .5px solid gray;'>0</td></tr><tr><td align='left' style='border: .5px solid gray;'>zeldapre</td><td align='left' style='border: .5px solid gray;'>1</td></tr><tr><td align='left' style='border: .5px solid gray;'>williampre</td><td align='left' style='border: .5px solid gray;'>0</td></tr><tr><td align='left' style='border: .5px solid gray;'>-jacobpost</td><td align='left' style='border: .5px solid gray;'>0</td></tr><tr><td align='left' style='border: .5px solid gray;'>-marthapost</td><td align='left' style='border: .5px solid gray;'>1</td></tr><tr><td align='left' style='border: .5px solid gray;'>-robbiepost</td><td align='left' style='border: .5px solid gray;'>2</td></tr><tr><td align='left' style='border: .5px solid gray;'>kurtpre</td><td align='left' style='border: .5px solid gray;'>0</td></tr><tr><td align='left' style='border: .5px solid gray;'>angelapre</td><td align='left' style='border: .5px solid gray;'>0</td></tr><tr><td align='left' style='border: .5px solid gray;'>ftcandice</td><td align='left' style='border: .5px solid gray;'>0</td></tr><tr><td align='left' style='border: .5px solid gray;'>-bethpost</td><td align='left' style='border: .5px solid gray;'>2</td></tr><tr><td align='left' style='border: .5px solid gray;'>ftharmony</td><td align='left' style='border: .5px solid gray;'>0</td></tr><tr><td align='left' style='border: .5px solid gray;'>-alipost</td><td align='left' style='border: .5px solid gray;'>0</td></tr><tr><td align='left' style='border: .5px solid gray;'>ftcaitlin</td><td align='left' style='border: .5px solid gray;'>1</td></tr><tr><td align='left' style='border: .5px solid gray;'>denisepre</td><td align='left' style='border: .5px solid gray;'>0</td></tr><tr><td align='left' style='border: .5px solid gray;'>randypre</td><td align='left' style='border: .5px solid gray;'>0</td></tr><tr><td align='left' style='border: .5px solid gray;'>ovadyapre</td><td align='left' style='border: .5px solid gray;'>0</td></tr><tr><td align='left' style='border: .5px solid gray;'>-kurtpost</td><td align='left' style='border: .5px solid gray;'>0</td></tr><tr><td align='left' style='border: .5px solid gray;'>ftblake</td><td align='left' style='border: .5px solid gray;'>1</td></tr><tr><td align='left' style='border: .5px solid gray;'>alipre</td><td align='left' style='border: .5px solid gray;'>0</td></tr><tr><td align='left' style='border: .5px solid gray;'>jacobpre</td><td align='left' style='border: .5px solid gray;'>0</td></tr><tr><td align='left' style='border: .5px solid gray;'>ftsamantha</td><td align='left' style='border: .5px solid gray;'>1</td></tr><tr><td align='left' style='border: .5px solid gray;'>kimberleypre</td><td align='left' style='border: .5px solid gray;'>1</td></tr><tr><td align='left' style='border: .5px solid gray;'>-ovadyapost</td><td align='left' style='border: .5px solid gray;'>0</td></tr><tr><td align='left' style='border: .5px solid gray;'>-stanpost</td><td align='left' style='border: .5px solid gray;'>1</td></tr><tr><td align='left' style='border: .5px solid gray;'>ftcassandra</td><td align='left' style='border: .5px solid gray;'>0</td></tr><tr><td align='left' style='border: .5px solid gray;'>ftlibby</td><td align='left' style='border: .5px solid gray;'>0</td></tr><tr><td align='left' style='border: .5px solid gray;'>-randypost</td><td align='left' style='border: .5px solid gray;'>0</td></tr><tr><td align='left' style='border: .5px solid gray;'>-sandrapost</td><td align='left' style='border: .5px solid gray;'>0</td></tr><tr><td align='left' style='border: .5px solid gray;'>ftlisa</td><td align='left' style='border: .5px solid gray;'>1</td></tr><tr><td align='left' style='border: .5px solid gray;'>ftmarcus</td><td align='left' style='border: .5px solid gray;'>0</td></tr><tr><td align='left' style='border: .5px solid gray;'>kellypre</td><td align='left' style='border: .5px solid gray;'>0</td></tr><tr><td align='left' style='border: .5px solid gray;'>deidrapre</td><td align='left' style='border: .5px solid gray;'>0</td></tr><tr><td align='left' style='border: .5px solid gray;'>ftalex</td><td align='left' style='border: .5px solid gray;'>0</td></tr><tr><td align='left' style='border: .5px solid gray;'>ftelesha</td><td align='left' style='border: .5px solid gray;'>0</td></tr><tr><td align='left' style='border: .5px solid gray;'>bethpre</td><td align='left' style='border: .5px solid gray;'>0</td></tr><tr><td align='left' style='border: .5px solid gray;'>-amandapost</td><td align='left' style='border: .5px solid gray;'>2</td></tr><tr><td align='left' style='border: .5px solid gray;'>jillpre</td><td align='left' style='border: .5px solid gray;'>0</td></tr><tr><td align='left' style='border: .5px solid gray;'>-kimberleypost</td><td align='left' style='border: .5px solid gray;'>0</td></tr><tr><td align='left' style='border: .5px solid gray;'>-denisepost</td><td align='left' style='border: .5px solid gray;'>0</td></tr><tr><td align='left' style='border: .5px solid gray;'>robbiepre</td><td align='left' style='border: .5px solid gray;'>2</td></tr><tr><td align='left' style='border: .5px solid gray;'>edgarpre</td><td align='left' style='border: .5px solid gray;'>0</td></tr><tr><td align='left' style='border: .5px solid gray;'>ftmason</td><td align='left' style='border: .5px solid gray;'>0</td></tr><tr><td align='left' style='border: .5px solid gray;'>ftholly</td><td align='left' style='border: .5px solid gray;'>0</td></tr><tr><td align='left' style='border: .5px solid gray;'>markpre</td><td align='left' style='border: .5px solid gray;'>0</td></tr><tr><td align='left' style='border: .5px solid gray;'>amandapre</td><td align='left' style='border: .5px solid gray;'>1</td></tr><tr><td align='left' style='border: .5px solid gray;'>-edgarpost</td><td align='left' style='border: .5px solid gray;'>0</td></tr><tr><td align='left' style='border: .5px solid gray;'>richardpre</td><td align='left' style='border: .5px solid gray;'>0</td></tr><tr><td align='left' style='border: .5px solid gray;'>-markpost</td><td align='left' style='border: .5px solid gray;'>0</td></tr><tr><td align='left' style='border: .5px solid gray;'>ftkerri</td><td align='left' style='border: .5px solid gray;'>1</td></tr><tr><td align='left' style='border: .5px solid gray;'>ftsophia</td><td align='left' style='border: .5px solid gray;'>0</td></tr><tr><td align='left' style='border: .5px solid gray;'>ftcaden</td><td align='left' style='border: .5px solid gray;'>2</td></tr></table>"
      ],
      "text/plain": [
       "[['vanessapre', 0],\n",
       " ['-vanessapost', 0],\n",
       " ['-williampost', 0],\n",
       " ['lesliepre', 0],\n",
       " ['zeldapre', 1],\n",
       " ['williampre', 0],\n",
       " ['-jacobpost', 0],\n",
       " ['-marthapost', 1],\n",
       " ['-robbiepost', 2],\n",
       " ['kurtpre', 0],\n",
       " ['angelapre', 0],\n",
       " ['ftcandice', 0],\n",
       " ['-bethpost', 2],\n",
       " ['ftharmony', 0],\n",
       " ['-alipost', 0],\n",
       " ['ftcaitlin', 1],\n",
       " ['denisepre', 0],\n",
       " ['randypre', 0],\n",
       " ['ovadyapre', 0],\n",
       " ['-kurtpost', 0],\n",
       " ['ftblake', 1],\n",
       " ['alipre', 0],\n",
       " ['jacobpre', 0],\n",
       " ['ftsamantha', 1],\n",
       " ['kimberleypre', 1],\n",
       " ['-ovadyapost', 0],\n",
       " ['-stanpost', 1],\n",
       " ['ftcassandra', 0],\n",
       " ['ftlibby', 0],\n",
       " ['-randypost', 0],\n",
       " ['-sandrapost', 0],\n",
       " ['ftlisa', 1],\n",
       " ['ftmarcus', 0],\n",
       " ['kellypre', 0],\n",
       " ['deidrapre', 0],\n",
       " ['ftalex', 0],\n",
       " ['ftelesha', 0],\n",
       " ['bethpre', 0],\n",
       " ['-amandapost', 2],\n",
       " ['jillpre', 0],\n",
       " ['-kimberleypost', 0],\n",
       " ['-denisepost', 0],\n",
       " ['robbiepre', 2],\n",
       " ['edgarpre', 0],\n",
       " ['ftmason', 0],\n",
       " ['ftholly', 0],\n",
       " ['markpre', 0],\n",
       " ['amandapre', 1],\n",
       " ['-edgarpost', 0],\n",
       " ['richardpre', 0],\n",
       " ['-markpost', 0],\n",
       " ['ftkerri', 1],\n",
       " ['ftsophia', 0],\n",
       " ['ftcaden', 2]]"
      ]
     },
     "execution_count": 14,
     "metadata": {},
     "output_type": "execute_result"
    }
   ],
   "source": [
    "res = []\n",
    "for n, fname in enumerate(fnames):\n",
    "    res.append([fname, clustering.labels_[n]])\n",
    "ListTable(res)"
   ]
  },
  {
   "cell_type": "markdown",
   "metadata": {
    "slideshow": {
     "slide_type": "subslide"
    }
   },
   "source": [
    "## Examine some metrics"
   ]
  },
  {
   "cell_type": "code",
   "execution_count": 15,
   "metadata": {},
   "outputs": [],
   "source": [
    "def compute_rss(X, centroids, labels):\n",
    "    rss = 0\n",
    "    for dnum in range(X.shape[0]):\n",
    "        vec = X[dnum]\n",
    "        centroid = centroids[labels[dnum]]\n",
    "        res_vec = vec - centroid\n",
    "        rss += np.dot(res_vec, res_vec)\n",
    "    return rss\n",
    "\n",
    "def compute_rss_data_agglomerative(X, start, end):\n",
    "    results = []\n",
    "    for k in range(start, end):\n",
    "        clusterer = AgglomerativeClustering(n_clusters=k, linkage=\"ward\", affinity=\"euclidean\")\n",
    "        clusterer.fit(X)\n",
    "        labels = clusterer.labels_\n",
    "        centroids = get_centroids(X, labels)\n",
    "        rss = compute_rss(X, centroids, labels)\n",
    "        results.append([k, rss])\n",
    "    return results"
   ]
  },
  {
   "cell_type": "code",
   "execution_count": 16,
   "metadata": {},
   "outputs": [
    {
     "data": {
      "text/plain": [
       "[<matplotlib.lines.Line2D at 0x13ad56e10>]"
      ]
     },
     "execution_count": 16,
     "metadata": {},
     "output_type": "execute_result"
    },
    {
     "data": {
      "image/png": "[encoded data removed]",
      "text/plain": [
       "<Figure size 432x288 with 1 Axes>"
      ]
     },
     "metadata": {
      "needs_background": "light"
     },
     "output_type": "display_data"
    }
   ],
   "source": [
    "rss_list = compute_rss_data_agglomerative(X, 2, 10)\n",
    "plt.clf()\n",
    "x = [res[0] for res in rss_list]\n",
    "y = [res[1] for res in rss_list]\n",
    "plt.plot(x, y)"
   ]
  },
  {
   "cell_type": "code",
   "execution_count": 17,
   "metadata": {},
   "outputs": [
    {
     "data": {
      "image/png": "[encoded data removed]",
      "text/plain": [
       "<Figure size 576x396 with 2 Axes>"
      ]
     },
     "metadata": {},
     "output_type": "display_data"
    },
    {
     "data": {
      "text/plain": [
       "<AxesSubplot:title={'center':'Silhouette Score Elbow for KMeans Clustering'}, xlabel='k', ylabel='silhouette score'>"
      ]
     },
     "execution_count": 17,
     "metadata": {},
     "output_type": "execute_result"
    }
   ],
   "source": [
    "from yellowbrick.cluster import KElbowVisualizer \n",
    "from sklearn.cluster import KMeans\n",
    "clusterer = KMeans()\n",
    "visualizer = KElbowVisualizer(clusterer, k=(2, 10), metric=\"silhouette\")\n",
    "visualizer.fit(X)\n",
    "visualizer.poof()"
   ]
  },
  {
   "cell_type": "code",
   "execution_count": null,
   "metadata": {},
   "outputs": [],
   "source": []
  }
 ],
 "metadata": {
  "celltoolbar": "Slideshow",
  "kernelspec": {
   "display_name": "Python 3 (ipykernel)",
   "language": "python",
   "name": "python3"
  },
  "language_info": {
   "codemirror_mode": {
    "name": "ipython",
    "version": 3
   },
   "file_extension": ".py",
   "mimetype": "text/x-python",
   "name": "python",
   "nbconvert_exporter": "python",
   "pygments_lexer": "ipython3",
   "version": "3.7.7"
  },
  "toc": {
   "base_numbering": 1,
   "nav_menu": {},
   "number_sections": true,
   "sideBar": true,
   "skip_h1_title": false,
   "title_cell": "Table of Contents",
   "title_sidebar": "Contents",
   "toc_cell": false,
   "toc_position": {},
   "toc_section_display": true,
   "toc_window_display": false
  }
 },
 "nbformat": 4,
 "nbformat_minor": 4
}
