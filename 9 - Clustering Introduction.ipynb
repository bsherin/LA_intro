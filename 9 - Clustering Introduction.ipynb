{
 "cells": [
  {
   "cell_type": "markdown",
   "metadata": {
    "slideshow": {
     "slide_type": "slide"
    }
   },
   "source": [
    "<h1>Clustering Introduction With Random Data</h1>"
   ]
  },
  {
   "cell_type": "markdown",
   "metadata": {
    "slideshow": {
     "slide_type": "subslide"
    }
   },
   "source": [
    "## About clustering"
   ]
  },
  {
   "cell_type": "markdown",
   "metadata": {},
   "source": [
    "### Supervised vs unsupervised methods"
   ]
  },
  {
   "cell_type": "markdown",
   "metadata": {},
   "source": [
    "In **supervised methods**, we start with some sort of \"ground truth.\" And we use that ground truth both to train and test our machine learning models.\n",
    "\n",
    "In **unsupervised methods**, we don't start with any ground truth. We have the data and look for patterns.\n",
    "\n",
    "Clearly unsupervised methods are more cool."
   ]
  },
  {
   "cell_type": "markdown",
   "metadata": {
    "slideshow": {
     "slide_type": "subslide"
    }
   },
   "source": [
    "### Create some random data: Points on a plane"
   ]
  },
  {
   "cell_type": "code",
   "execution_count": null,
   "metadata": {
    "slideshow": {
     "slide_type": "-"
    }
   },
   "outputs": [],
   "source": [
    "import random\n",
    "import numpy"
   ]
  },
  {
   "cell_type": "code",
   "execution_count": null,
   "metadata": {
    "slideshow": {
     "slide_type": "fragment"
    }
   },
   "outputs": [],
   "source": [
    "import matplotlib.pyplot as plt\n",
    "def scatter_plot(dvectors, dnames = []):\n",
    "    plt.axhline(xmin = -1, xmax = 1)\n",
    "    plt.axvline(ymin = -1, ymax = 1)\n",
    "    plt.grid(True)\n",
    "    plt.axis('on')\n",
    "    xvals = []\n",
    "    yvals = []\n",
    "    if dnames == []:\n",
    "        dnames = range(len(dvectors))\n",
    "    for d in dvectors:\n",
    "        xvals.append(d[0])\n",
    "        yvals.append(d[1])\n",
    "    plt.scatter(xvals, yvals)\n",
    "    for i in range(len(dnames)):\n",
    "        loc = [dvectors[i][0] + .02, dvectors[i][1] + .02]\n",
    "        plt.annotate(dnames[i], loc, size = \"large\")"
   ]
  },
  {
   "cell_type": "code",
   "execution_count": null,
   "metadata": {},
   "outputs": [],
   "source": [
    "from sklearn.datasets import make_blobs\n",
    "Xtest, y = make_blobs(n_samples=10, centers=3, n_features=2, shuffle=True, random_state=42)\n",
    "scatter_plot(Xtest)"
   ]
  },
  {
   "cell_type": "markdown",
   "metadata": {
    "slideshow": {
     "slide_type": "subslide"
    }
   },
   "source": [
    "### Hierarachical clustering"
   ]
  },
  {
   "cell_type": "markdown",
   "metadata": {},
   "source": [
    "![image.png](https://www.statisticshowto.com/wp-content/uploads/2016/11/clustergram.png)"
   ]
  },
  {
   "cell_type": "markdown",
   "metadata": {
    "slideshow": {
     "slide_type": "subslide"
    }
   },
   "source": [
    "## Do the clustering"
   ]
  },
  {
   "cell_type": "markdown",
   "metadata": {},
   "source": [
    "**We'll use sklearn rather than nltk**\n",
    "\n",
    "https://scikit-learn.org/stable/modules/classes.html#module-sklearn.cluster"
   ]
  },
  {
   "cell_type": "code",
   "execution_count": null,
   "metadata": {},
   "outputs": [],
   "source": [
    "from sklearn.cluster import AgglomerativeClustering\n",
    "clusterer = AgglomerativeClustering(n_clusters=3, linkage=\"ward\", affinity=\"euclidean\")\n",
    "clusterer.fit(Xtest)"
   ]
  },
  {
   "cell_type": "code",
   "execution_count": null,
   "metadata": {},
   "outputs": [],
   "source": [
    "clusterer.labels_"
   ]
  },
  {
   "cell_type": "code",
   "execution_count": null,
   "metadata": {},
   "outputs": [],
   "source": [
    "from sklearn.neighbors import NearestCentroid\n",
    "def get_centroids(X, labels):\n",
    "    clf = NearestCentroid()\n",
    "    clf.fit(X, labels)\n",
    "    centroids = clf.centroids_\n",
    "    return centroids"
   ]
  },
  {
   "cell_type": "code",
   "execution_count": null,
   "metadata": {},
   "outputs": [],
   "source": [
    "centroids = get_centroids(Xtest, clusterer.labels_)\n",
    "scatter_plot(centroids)"
   ]
  },
  {
   "cell_type": "code",
   "execution_count": null,
   "metadata": {
    "slideshow": {
     "slide_type": "subslide"
    }
   },
   "outputs": [],
   "source": [
    "from scipy.cluster.hierarchy import dendrogram\n",
    "from sklearn.cluster import AgglomerativeClustering\n",
    "import numpy as np\n",
    "\n",
    "def plot_dendrogram(model, **kwargs):\n",
    "\n",
    "    # Children of hierarchical clustering\n",
    "    children = model.children_\n",
    "\n",
    "    # Distances between each pair of children\n",
    "    # Since we don't have this information, we can use a uniform one for plotting\n",
    "    distance = np.arange(children.shape[0])\n",
    "\n",
    "    # The number of observations contained in each cluster level\n",
    "    no_of_observations = np.arange(2, children.shape[0]+2)\n",
    "\n",
    "    # Create linkage matrix and then plot the dendrogram\n",
    "    linkage_matrix = np.column_stack([children, distance, no_of_observations]).astype(float)\n",
    "\n",
    "    # Plot the corresponding dendrogram\n",
    "    dendrogram(linkage_matrix, **kwargs)"
   ]
  },
  {
   "cell_type": "code",
   "execution_count": null,
   "metadata": {},
   "outputs": [],
   "source": [
    "plot_dendrogram(clusterer)"
   ]
  },
  {
   "cell_type": "code",
   "execution_count": null,
   "metadata": {},
   "outputs": [],
   "source": [
    "from sklearn.metrics import silhouette_score\n",
    "silhouette_score(Xtest, clusterer.labels_)"
   ]
  },
  {
   "cell_type": "markdown",
   "metadata": {
    "slideshow": {
     "slide_type": "slide"
    }
   },
   "source": [
    "## Kmeans clustering\n",
    "\n",
    "A kind of flat clustering"
   ]
  },
  {
   "cell_type": "markdown",
   "metadata": {},
   "source": [
    "How it works:\n",
    "\n",
    "1. It randomly picks a number of points equal to the number of clusters. These are the first guesses at centers for the clusters.\n",
    "2. Each sample in the data set is assigned to the cluster corresponding to the center to which it is closest.\n",
    "3. Find the average of the points in each cluster. These become the new centers.\n",
    "4. The process iterates it converges within some measure of tolerance."
   ]
  },
  {
   "cell_type": "code",
   "execution_count": null,
   "metadata": {},
   "outputs": [],
   "source": [
    "from sklearn.cluster import KMeans\n",
    "kclusterer = KMeans(n_clusters=3).fit(Xtest)"
   ]
  },
  {
   "cell_type": "code",
   "execution_count": null,
   "metadata": {},
   "outputs": [],
   "source": [
    "kclusterer.labels_"
   ]
  },
  {
   "cell_type": "code",
   "execution_count": null,
   "metadata": {},
   "outputs": [],
   "source": [
    "centroids = kclusterer.cluster_centers_"
   ]
  },
  {
   "cell_type": "code",
   "execution_count": null,
   "metadata": {},
   "outputs": [],
   "source": [
    "scatter_plot(centroids)"
   ]
  },
  {
   "cell_type": "markdown",
   "metadata": {
    "slideshow": {
     "slide_type": "subslide"
    }
   },
   "source": [
    "## Determining the right number of clusters"
   ]
  },
  {
   "cell_type": "code",
   "execution_count": null,
   "metadata": {},
   "outputs": [],
   "source": [
    "def compute_rss(X, centroids, labels):\n",
    "    rss = 0\n",
    "    for dnum in range(X.shape[0]):\n",
    "        vec = X[dnum]\n",
    "        centroid = centroids[labels[dnum]]\n",
    "        res_vec = vec - centroid\n",
    "        rss += np.dot(res_vec, res_vec)\n",
    "    return rss\n",
    "\n",
    "def compute_rss_data(X, start, end):\n",
    "    results = []\n",
    "    for k in range(start, end):\n",
    "        kcluster = KMeans(n_clusters=k)\n",
    "        kcluster.fit(X)\n",
    "        centroids = kcluster.cluster_centers_\n",
    "        labels = kcluster.labels_\n",
    "        rss = compute_rss(X, centroids, labels)\n",
    "        results.append([k, rss])\n",
    "    return results\n",
    "\n",
    "def compute_rss_data_agglomerative(X, start, end):\n",
    "    results = []\n",
    "    for k in range(start, end):\n",
    "        clusterer = AgglomerativeClustering(n_clusters=k, linkage=\"ward\", affinity=\"euclidean\")\n",
    "        clusterer.fit(X)\n",
    "        labels = clusterer.labels_\n",
    "        centroids = get_centroids(X, labels)\n",
    "        rss = compute_rss(X, centroids, labels)\n",
    "        results.append([k, rss])\n",
    "    return results"
   ]
  },
  {
   "cell_type": "code",
   "execution_count": null,
   "metadata": {},
   "outputs": [],
   "source": [
    "rss_list = compute_rss_data(Xtest, 2, 10)"
   ]
  },
  {
   "cell_type": "code",
   "execution_count": null,
   "metadata": {},
   "outputs": [],
   "source": [
    "plt.clf()\n",
    "x = [res[0] for res in rss_list]\n",
    "y = [res[1] for res in rss_list]\n",
    "plt.plot(x, y)"
   ]
  },
  {
   "cell_type": "markdown",
   "metadata": {
    "slideshow": {
     "slide_type": "subslide"
    }
   },
   "source": [
    "### Elbow visualizer\n",
    "explained [here](https://www.scikit-yb.org/en/latest/api/cluster/elbow.html)"
   ]
  },
  {
   "cell_type": "code",
   "execution_count": null,
   "metadata": {},
   "outputs": [],
   "source": [
    "from yellowbrick.cluster import KElbowVisualizer \n",
    "from sklearn.cluster import KMeans\n",
    "clusterer = KMeans()\n",
    "visualizer = KElbowVisualizer(clusterer, k=(2, 10), metric='distortion')\n",
    "visualizer.fit(Xtest)\n",
    "visualizer.poof()"
   ]
  },
  {
   "cell_type": "markdown",
   "metadata": {
    "slideshow": {
     "slide_type": "subslide"
    }
   },
   "source": [
    "### Silhouette score"
   ]
  },
  {
   "cell_type": "markdown",
   "metadata": {},
   "source": [
    "The Silhouette Coefficient is calculated using the mean intra-cluster distance (a) and the mean nearest-cluster distance (b) for each sample. The Silhouette Coefficient for a sample is (b - a) / max(a, b). Note that Silhouette Coefficient is only defined if number of labels is 2 <= n_labels <= n_samples - 1."
   ]
  },
  {
   "cell_type": "code",
   "execution_count": null,
   "metadata": {},
   "outputs": [],
   "source": [
    "from yellowbrick.cluster import KElbowVisualizer \n",
    "from sklearn.cluster import KMeans\n",
    "clusterer = KMeans()\n",
    "visualizer = KElbowVisualizer(clusterer, k=(2, 10), metric=\"silhouette\")\n",
    "visualizer.fit(Xtest)\n",
    "visualizer.poof()"
   ]
  },
  {
   "cell_type": "code",
   "execution_count": null,
   "metadata": {},
   "outputs": [],
   "source": [
    "from yellowbrick.cluster import SilhouetteVisualizer \n",
    "from sklearn.cluster import KMeans\n",
    "visualizer = SilhouetteVisualizer(KMeans(n_clusters=3))\n",
    "visualizer.fit(Xtest)"
   ]
  },
  {
   "cell_type": "code",
   "execution_count": null,
   "metadata": {},
   "outputs": [],
   "source": [
    "from sklearn.metrics import silhouette_samples\n",
    "silhouette_samples(Xtest, visualizer.labels_)"
   ]
  },
  {
   "cell_type": "code",
   "execution_count": null,
   "metadata": {},
   "outputs": [],
   "source": [
    "visualizer.labels_"
   ]
  },
  {
   "cell_type": "code",
   "execution_count": null,
   "metadata": {},
   "outputs": [],
   "source": [
    "from yellowbrick.cluster import SilhouetteVisualizer \n",
    "from sklearn.cluster import KMeans\n",
    "visualizer = SilhouetteVisualizer(KMeans(n_clusters=5))\n",
    "visualizer.fit(Xtest)"
   ]
  },
  {
   "cell_type": "code",
   "execution_count": null,
   "metadata": {},
   "outputs": [],
   "source": [
    "visualizer.labels_"
   ]
  },
  {
   "cell_type": "code",
   "execution_count": null,
   "metadata": {},
   "outputs": [],
   "source": [
    "list(visualizer.labels_).count(3)"
   ]
  },
  {
   "cell_type": "code",
   "execution_count": null,
   "metadata": {},
   "outputs": [],
   "source": []
  }
 ],
 "metadata": {
  "celltoolbar": "Slideshow",
  "kernelspec": {
   "display_name": "Python 3 (ipykernel)",
   "language": "python",
   "name": "python3"
  },
  "language_info": {
   "codemirror_mode": {
    "name": "ipython",
    "version": 3
   },
   "file_extension": ".py",
   "mimetype": "text/x-python",
   "name": "python",
   "nbconvert_exporter": "python",
   "pygments_lexer": "ipython3",
   "version": "3.7.7"
  },
  "toc": {
   "base_numbering": 1,
   "nav_menu": {},
   "number_sections": true,
   "sideBar": true,
   "skip_h1_title": false,
   "title_cell": "Table of Contents",
   "title_sidebar": "Contents",
   "toc_cell": false,
   "toc_position": {},
   "toc_section_display": true,
   "toc_window_display": false
  }
 },
 "nbformat": 4,
 "nbformat_minor": 4
}
